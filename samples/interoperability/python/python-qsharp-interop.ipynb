{
 "cells": [
  {
   "cell_type": "markdown",
   "source": [
    "# Using Q\\# with Python"
   ],
   "metadata": {}
  },
  {
   "cell_type": "markdown",
   "source": [
    "## Abstract"
   ],
   "metadata": {}
  },
  {
   "cell_type": "markdown",
   "source": [
    "## The `qsharp` package"
   ],
   "metadata": {}
  },
  {
   "cell_type": "markdown",
   "source": [
    "We begin by importing the `qsharp` Python package. This package provides Q# interoperability for Python, as well as integration with Jupyter."
   ],
   "metadata": {}
  },
  {
   "cell_type": "code",
   "execution_count": 1,
   "source": [
    "import qsharp"
   ],
   "outputs": [
    {
     "output_type": "stream",
     "name": "stdout",
     "text": [
      "Preparing Q# environment...\n"
     ]
    }
   ],
   "metadata": {}
  },
  {
   "cell_type": "markdown",
   "source": [
    "Once imported, the `qsharp` package exposes Q# functions and operations as Python object that we can use to simulate quantum programs, estimate quantum resources, and so forth.\r\n",
    "\r\n",
    "Let's start by defining a new Q# operation with the `%%qsharp` magic command."
   ],
   "metadata": {}
  },
  {
   "cell_type": "code",
   "execution_count": 2,
   "source": [
    "%%qsharp\r\n",
    "\r\n",
    "operation SayHello(name : String) : Unit {\r\n",
    "    Message($\"Hello, {name}!\");\r\n",
    "}"
   ],
   "outputs": [],
   "metadata": {}
  },
  {
   "cell_type": "markdown",
   "source": [
    "This creates a new Python object `SayHello` that represents our new Q# operation."
   ],
   "metadata": {}
  },
  {
   "cell_type": "code",
   "execution_count": 3,
   "source": [
    "SayHello"
   ],
   "outputs": [
    {
     "output_type": "execute_result",
     "data": {
      "text/plain": [
       "<Q# callable SayHello>"
      ]
     },
     "metadata": {},
     "execution_count": 3
    }
   ],
   "metadata": {}
  },
  {
   "cell_type": "markdown",
   "source": [
    "By using the `.simulate` method, we can run our new operation on a quantum simulator:"
   ],
   "metadata": {}
  },
  {
   "cell_type": "code",
   "execution_count": 4,
   "source": [
    "SayHello.simulate(name=\"quantum world\")"
   ],
   "outputs": [
    {
     "output_type": "stream",
     "name": "stdout",
     "text": [
      "Hello, quantum world!\n"
     ]
    },
    {
     "output_type": "execute_result",
     "data": {
      "text/plain": [
       "()"
      ]
     },
     "metadata": {},
     "execution_count": 4
    }
   ],
   "metadata": {}
  },
  {
   "cell_type": "markdown",
   "source": [
    "Inputs to your Q# operation are represented by Python keyword arguments, and outputs are returned back to the Python host."
   ],
   "metadata": {}
  },
  {
   "cell_type": "code",
   "execution_count": 5,
   "source": [
    "%%qsharp\r\n",
    "\r\n",
    "function Plus(x : Int, y : Int) : Int {\r\n",
    "    return x + y;\r\n",
    "}"
   ],
   "outputs": [],
   "metadata": {}
  },
  {
   "cell_type": "code",
   "execution_count": 6,
   "source": [
    "Plus.simulate(x=3, y=5)"
   ],
   "outputs": [
    {
     "output_type": "execute_result",
     "data": {
      "text/plain": [
       "8"
      ]
     },
     "metadata": {},
     "execution_count": 6
    }
   ],
   "metadata": {}
  },
  {
   "cell_type": "markdown",
   "source": [
    "Of course, you can also use qubits in the Q# programs that you simulate from Python:"
   ],
   "metadata": {}
  },
  {
   "cell_type": "code",
   "execution_count": 7,
   "source": [
    "%%qsharp\r\n",
    "open Microsoft.Quantum.Measurement;\r\n",
    "\r\n",
    "operation SampleQrng() : Result {\r\n",
    "    use q = Qubit();\r\n",
    "    H(q);\r\n",
    "    return MResetZ(q);\r\n",
    "}"
   ],
   "outputs": [],
   "metadata": {}
  },
  {
   "cell_type": "code",
   "execution_count": 8,
   "source": [
    "SampleQrng.simulate()"
   ],
   "outputs": [
    {
     "output_type": "execute_result",
     "data": {
      "text/plain": [
       "1"
      ]
     },
     "metadata": {},
     "execution_count": 8
    }
   ],
   "metadata": {}
  },
  {
   "cell_type": "markdown",
   "source": [
    "The `qsharp` package also provides the `compile` function, which allows for compiling Q# code from Python strings."
   ],
   "metadata": {}
  },
  {
   "cell_type": "code",
   "execution_count": 9,
   "source": [
    "sample_qrng = qsharp.compile(\"\"\"\r\n",
    "    operation SampleQrng() : Result {\r\n",
    "        use q = Qubit();\r\n",
    "        H(q);\r\n",
    "        return MResetZ(q);\r\n",
    "    }\r\n",
    "\"\"\")"
   ],
   "outputs": [],
   "metadata": {}
  },
  {
   "cell_type": "code",
   "execution_count": 10,
   "source": [
    "sample_qrng.simulate()"
   ],
   "outputs": [
    {
     "output_type": "execute_result",
     "data": {
      "text/plain": [
       "1"
      ]
     },
     "metadata": {},
     "execution_count": 10
    }
   ],
   "metadata": {}
  },
  {
   "cell_type": "markdown",
   "source": [
    "## Workspaces, Projects, and Packages"
   ],
   "metadata": {}
  },
  {
   "cell_type": "markdown",
   "source": [
    "\r\n",
    "As your quantum programs get larger, it can be inconvienent to keep all of your Q# code in a single notebook or Python script. Instead, the `qsharp` package allows you to call into Q# code from source code in the same directory as your notebook.\r\n",
    "\r\n",
    "For example, in the cell below, `PrepareBellPair` is defined in [`./Operations.qs`](./Operations.qs), but we can call it from Q# operations defined using `%%qsharp`."
   ],
   "metadata": {}
  },
  {
   "cell_type": "code",
   "execution_count": 20,
   "source": [
    "%%qsharp\r\n",
    "open Microsoft.Quantum.Samples;\r\n",
    "\r\n",
    "operation PrepareAndMeasureBellPair() : (Result, Result) {\r\n",
    "    use left = Qubit();\r\n",
    "    use right = Qubit();\r\n",
    "\r\n",
    "    PrepareBellPair(left, right);\r\n",
    "    return (MResetZ(left), MResetZ(right));\r\n",
    "}"
   ],
   "outputs": [],
   "metadata": {}
  },
  {
   "cell_type": "code",
   "execution_count": 19,
   "source": [
    "PrepareAndMeasureBellPair.simulate()"
   ],
   "outputs": [
    {
     "output_type": "execute_result",
     "data": {
      "text/plain": [
       "(0, 0)"
      ]
     },
     "metadata": {},
     "execution_count": 19
    }
   ],
   "metadata": {}
  },
  {
   "cell_type": "markdown",
   "source": [
    "\r\n",
    "After importing the `qsharp` package, you can also import Q# namespaces as though they were Python packages. For example, `Operations.qs` also defines an operation that demonstrates how to run quantum teleportation; we can import it here and run the `RunTeleportationExample` operation on our simulator."
   ],
   "metadata": {}
  },
  {
   "cell_type": "code",
   "execution_count": 22,
   "source": [
    "from Microsoft.Quantum.Samples import RunTeleportationExample"
   ],
   "outputs": [],
   "metadata": {}
  },
  {
   "cell_type": "code",
   "execution_count": 27,
   "source": [
    "RunTeleportationExample.simulate()"
   ],
   "outputs": [
    {
     "output_type": "stream",
     "name": "stdout",
     "text": [
      "Teleported successfully!\n"
     ]
    },
    {
     "output_type": "execute_result",
     "data": {
      "text/plain": [
       "()"
      ]
     },
     "metadata": {},
     "execution_count": 27
    }
   ],
   "metadata": {}
  },
  {
   "cell_type": "markdown",
   "source": [
    "The Q# code in your workspace can also depend on other Q# _packages_ and _projects_ by using project files.\r\n",
    "\r\n",
    "> **TIP**: If you don't have a project file for your workspace, the `qsharp` package will assume some reasonable defaults. Having a project file makes it easy to use additional packages, to get code completion and hover documentation while you edit your Q# files, and so forth.\r\n",
    "\r\n",
    "For example, this sample includes a Q# project file that tells the `qsharp` Python package what other Q# packages are needed to run your code."
   ],
   "metadata": {}
  },
  {
   "cell_type": "code",
   "execution_count": 31,
   "source": [
    "with open('python.csproj') as f:\r\n",
    "    print(f.read())"
   ],
   "outputs": [
    {
     "output_type": "stream",
     "name": "stdout",
     "text": [
      "<!-- This line declare that the project is a Q# project, built using the\n",
      "     Microsoft.Quantum.Sdk package. -->\n",
      "<Project Sdk=\"Microsoft.Quantum.Sdk/0.18.2107153439\">\n",
      "\n",
      "  <PropertyGroup>\n",
      "    <OutputType>Library</OutputType>\n",
      "    <TargetFramework>netstandard2.1</TargetFramework>\n",
      "    <!-- This property tells the qsharp package to automatically load\n",
      "         your project and use it as a workspace. -->\n",
      "    <IQSharpLoadAutomatically>true</IQSharpLoadAutomatically>\n",
      "  </PropertyGroup>\n",
      "\n",
      "  <!-- To include functions and operations from other Q# packages, you can\n",
      "       add them as package references in your project file. These packages\n",
      "       will automatically be downloaded from nuget.org and made available to your\n",
      "       Q# workspace. -->\n",
      "  <ItemGroup>\n",
      "    <PackageReference Include=\"Microsoft.Quantum.Numerics\" Version=\"0.18.2107153439\" />\n",
      "  </ItemGroup>\n",
      "\n",
      "</Project>\n",
      "\n"
     ]
    }
   ],
   "metadata": {}
  },
  {
   "cell_type": "markdown",
   "source": [
    "To see what packages are currently added to your workspace, you can use the `qsharp.packages` object:"
   ],
   "metadata": {}
  },
  {
   "cell_type": "code",
   "execution_count": 35,
   "source": [
    "qsharp.packages"
   ],
   "outputs": [
    {
     "output_type": "display_data",
     "data": {
      "text/plain": [
       "Adding package ."
      ],
      "application/x-qsharp-data": "{\"LastUpdated\":\"2021-08-06T16:05:38.9638784-07:00\",\"IsCompleted\":false,\"Description\":\"Adding package \",\"Subtask\":null}"
     },
     "metadata": {}
    },
    {
     "output_type": "execute_result",
     "data": {
      "text/plain": [
       "[('Microsoft.Quantum.Standard', LooseVersion ('0.18.2107153439')), ('Microsoft.Quantum.Standard.Visualization', LooseVersion ('0.18.2107153439')), ('Microsoft.Quantum.Numerics', LooseVersion ('0.18.2107153439'))]"
      ]
     },
     "metadata": {},
     "execution_count": 35
    }
   ],
   "metadata": {}
  },
  {
   "cell_type": "markdown",
   "source": [
    "## Diagnostics"
   ],
   "metadata": {}
  },
  {
   "cell_type": "markdown",
   "source": [
    "Just as with Q# standalone notebooks, you can also use diagnostics like `DumpMachine` and `DumpOperation` from Python notebooks to learn how your Q# program work and to help diagnose issues and bugs in your Q# programs."
   ],
   "metadata": {}
  },
  {
   "cell_type": "code",
   "execution_count": 36,
   "source": [
    "%%qsharp\r\n",
    "open Microsoft.Quantum.Diagnostics;\r\n",
    "\r\n",
    "operation DumpPlusState() : Unit {\r\n",
    "    use q = Qubit();\r\n",
    "    within {\r\n",
    "        H(q);\r\n",
    "    } apply {\r\n",
    "        DumpMachine();\r\n",
    "    }\r\n",
    "}"
   ],
   "outputs": [],
   "metadata": {}
  },
  {
   "cell_type": "code",
   "execution_count": 37,
   "source": [
    "DumpPlusState.simulate()"
   ],
   "outputs": [
    {
     "output_type": "display_data",
     "data": {
      "text/plain": [
       "|0⟩\t0.7071067811865476 + 0𝑖\n",
       "|1⟩\t0.7071067811865476 + 0𝑖"
      ],
      "text/html": [
       "\r\n",
       "                    <table style=\"table-layout: fixed; width: 100%\">\r\n",
       "                        <thead>\r\n",
       "                            \r\n",
       "                        <tr>\r\n",
       "                            <th>Qubit IDs</th>\r\n",
       "                            <td span=\"3\">0</td>\r\n",
       "                        </tr>\r\n",
       "                    \r\n",
       "                            <tr>\r\n",
       "                                <th style=\"width: 20ch)\">Basis state (little endian)</th>\r\n",
       "                                <th style=\"width: 20ch\">Amplitude</th><th style=\"width: calc(100% - 26ch - 20ch)\">Meas. Pr.</th><th style=\"width: 6ch\">Phase</th>\r\n",
       "                            </tr>\r\n",
       "                        </thead>\r\n",
       "                        <tbody>\r\n",
       "                        \r\n",
       "                            <tr>\r\n",
       "                                <td>$\\left|0\\right\\rangle$</td>\r\n",
       "                                <td>$0.7071 + 0.0000 i$</td>\r\n",
       "                                \r\n",
       "                                <td>\r\n",
       "                                    <progress\r\n",
       "                                        max=\"100\"\r\n",
       "                                        value=\"50.000000000000014\"\r\n",
       "                                        style=\"width: 100%;\"\r\n",
       "                                    > \r\n",
       "                                    <td>\r\n",
       "                                    <p id=\"round-ba2d9c0e-c328-426a-9d90-372c58a8c1bd\"> \r\n",
       "                                    <script>\r\n",
       "                                    var num = 50.000000000000014;\r\n",
       "                                    num = num.toFixed(4);\r\n",
       "                                    var num_string = num + \"%\";\r\n",
       "                                     document.getElementById(\"round-ba2d9c0e-c328-426a-9d90-372c58a8c1bd\").innerHTML = num_string;\r\n",
       "                                    </script> </p>\r\n",
       "                                    </td>\r\n",
       "                                </td>\r\n",
       "                            \r\n",
       "                                \r\n",
       "                                <td style=\"transform: rotate(0deg);\r\n",
       "                   text-align: center;\">\r\n",
       "                                 ↑\r\n",
       "                                </td>\r\n",
       "                            \r\n",
       "                            </tr>\r\n",
       "                        \n",
       "\r\n",
       "                            <tr>\r\n",
       "                                <td>$\\left|1\\right\\rangle$</td>\r\n",
       "                                <td>$0.7071 + 0.0000 i$</td>\r\n",
       "                                \r\n",
       "                                <td>\r\n",
       "                                    <progress\r\n",
       "                                        max=\"100\"\r\n",
       "                                        value=\"50.000000000000014\"\r\n",
       "                                        style=\"width: 100%;\"\r\n",
       "                                    > \r\n",
       "                                    <td>\r\n",
       "                                    <p id=\"round-a08a69a5-26fb-4f8e-8db0-87a2be125e0e\"> \r\n",
       "                                    <script>\r\n",
       "                                    var num = 50.000000000000014;\r\n",
       "                                    num = num.toFixed(4);\r\n",
       "                                    var num_string = num + \"%\";\r\n",
       "                                     document.getElementById(\"round-a08a69a5-26fb-4f8e-8db0-87a2be125e0e\").innerHTML = num_string;\r\n",
       "                                    </script> </p>\r\n",
       "                                    </td>\r\n",
       "                                </td>\r\n",
       "                            \r\n",
       "                                \r\n",
       "                                <td style=\"transform: rotate(0deg);\r\n",
       "                   text-align: center;\">\r\n",
       "                                 ↑\r\n",
       "                                </td>\r\n",
       "                            \r\n",
       "                            </tr>\r\n",
       "                        \r\n",
       "                        </tbody>\r\n",
       "                    </table>"
      ],
      "application/x-qsharp-data": "{\"diagnostic_kind\":\"state-vector\",\"div_id\":\"dump-machine-div-f7cbdde5-d328-420a-afc2-c3526a4e9eb1\",\"qubit_ids\":[0],\"n_qubits\":1,\"amplitudes\":[{\"Real\":0.7071067811865476,\"Imaginary\":0.0,\"Magnitude\":0.7071067811865476,\"Phase\":0.0},{\"Real\":0.7071067811865476,\"Imaginary\":0.0,\"Magnitude\":0.7071067811865476,\"Phase\":0.0}]}"
     },
     "metadata": {}
    },
    {
     "output_type": "execute_result",
     "data": {
      "text/plain": [
       "()"
      ]
     },
     "metadata": {},
     "execution_count": 37
    }
   ],
   "metadata": {}
  },
  {
   "cell_type": "markdown",
   "source": [
    "The Q# package also allows you to capture these diagnostics and manipulate them as Python objects:"
   ],
   "metadata": {}
  },
  {
   "cell_type": "code",
   "execution_count": 38,
   "source": [
    "with qsharp.capture_diagnostics() as diagnostics:\r\n",
    "    DumpPlusState.simulate()"
   ],
   "outputs": [],
   "metadata": {}
  },
  {
   "cell_type": "code",
   "execution_count": 39,
   "source": [
    "diagnostics"
   ],
   "outputs": [
    {
     "output_type": "execute_result",
     "data": {
      "text/plain": [
       "[{'diagnostic_kind': 'state-vector',\n",
       "  'div_id': 'dump-machine-div-7d5c6c6f-9344-48a6-9e47-c05342adbc07',\n",
       "  'qubit_ids': [0],\n",
       "  'n_qubits': 1,\n",
       "  'amplitudes': [{'Real': 0.7071067811865476,\n",
       "    'Imaginary': 0.0,\n",
       "    'Magnitude': 0.7071067811865476,\n",
       "    'Phase': 0.0},\n",
       "   {'Real': 0.7071067811865476,\n",
       "    'Imaginary': 0.0,\n",
       "    'Magnitude': 0.7071067811865476,\n",
       "    'Phase': 0.0}]}]"
      ]
     },
     "metadata": {},
     "execution_count": 39
    }
   ],
   "metadata": {}
  },
  {
   "cell_type": "markdown",
   "source": [
    "Working with raw JSON for diagnostics can be somewhat inconvienent, so the `capture_diagnostics` function also supports converting diagnostics into quantum objects using the QuTiP library:"
   ],
   "metadata": {}
  },
  {
   "cell_type": "code",
   "execution_count": 40,
   "source": [
    "with qsharp.capture_diagnostics(as_qobj=True) as diagnostics:\r\n",
    "    DumpPlusState.simulate()"
   ],
   "outputs": [],
   "metadata": {}
  },
  {
   "cell_type": "code",
   "execution_count": 42,
   "source": [
    "diagnostics[0]"
   ],
   "outputs": [
    {
     "output_type": "execute_result",
     "data": {
      "text/plain": [
       "Quantum object: dims = [[2], [1]], shape = (2, 1), type = ket\n",
       "Qobj data =\n",
       "[[0.70710678]\n",
       " [0.70710678]]"
      ],
      "text/latex": [
       "Quantum object: dims = [[2], [1]], shape = (2, 1), type = ket\\begin{equation*}\\left(\\begin{array}{*{11}c}0.707\\\\0.707\\\\\\end{array}\\right)\\end{equation*}"
      ]
     },
     "metadata": {},
     "execution_count": 42
    }
   ],
   "metadata": {}
  },
  {
   "cell_type": "code",
   "execution_count": 47,
   "source": [
    "%%qsharp\r\n",
    "open Microsoft.Quantum.Diagnostics;\r\n",
    "\r\n",
    "operation DumpOneState() : Unit {\r\n",
    "    use q = Qubit();\r\n",
    "    within {\r\n",
    "        X(q);\r\n",
    "    } apply {\r\n",
    "        DumpMachine();\r\n",
    "    }\r\n",
    "}"
   ],
   "outputs": [],
   "metadata": {}
  },
  {
   "cell_type": "code",
   "execution_count": 49,
   "source": [
    "with qsharp.capture_diagnostics() as diagnostics:\r\n",
    "    DumpOneState.toffoli_simulate()"
   ],
   "outputs": [
    {
     "output_type": "stream",
     "name": "stdout",
     "text": [
      "Offset  \tState Data\n",
      "========\t==========\n",
      "00000000\t1\n"
     ]
    }
   ],
   "metadata": {}
  },
  {
   "cell_type": "markdown",
   "source": [
    "## Using other simulators"
   ],
   "metadata": {}
  },
  {
   "cell_type": "code",
   "execution_count": 51,
   "source": [
    "dir(qsharp)"
   ],
   "outputs": [
    {
     "output_type": "execute_result",
     "data": {
      "text/plain": [
       "['Any',\n",
       " 'Config',\n",
       " 'Dict',\n",
       " 'IQSharpError',\n",
       " 'List',\n",
       " 'LooseVersion',\n",
       " 'Packages',\n",
       " 'Pauli',\n",
       " 'Projects',\n",
       " 'QSharpCallable',\n",
       " 'QSharpModuleFinder',\n",
       " 'Result',\n",
       " 'Union',\n",
       " '__all__',\n",
       " '__builtins__',\n",
       " '__cached__',\n",
       " '__doc__',\n",
       " '__file__',\n",
       " '__loader__',\n",
       " '__name__',\n",
       " '__package__',\n",
       " '__path__',\n",
       " '__spec__',\n",
       " '__version__',\n",
       " '_experimental_versions',\n",
       " '_start_client',\n",
       " 'capture_diagnostics',\n",
       " 'client',\n",
       " 'clients',\n",
       " 'compile',\n",
       " 'component_versions',\n",
       " 'config',\n",
       " 'contextmanager',\n",
       " 'defaultdict',\n",
       " 'get_available_operations',\n",
       " 'get_available_operations_by_namespace',\n",
       " 'get_workspace_operations',\n",
       " 'ipython_magic',\n",
       " 'loader',\n",
       " 'packages',\n",
       " 'pkg_resources',\n",
       " 'projects',\n",
       " 'qobj',\n",
       " 'qsharp',\n",
       " 'reload',\n",
       " 'serialization',\n",
       " 'sys',\n",
       " 'types',\n",
       " 'version']"
      ]
     },
     "metadata": {},
     "execution_count": 51
    }
   ],
   "metadata": {}
  },
  {
   "cell_type": "markdown",
   "source": [],
   "metadata": {}
  },
  {
   "cell_type": "code",
   "execution_count": null,
   "source": [],
   "outputs": [],
   "metadata": {}
  }
 ],
 "metadata": {
  "orig_nbformat": 4,
  "kernelspec": {
   "name": "python3",
   "display_name": "Python 3",
   "language": "python"
  },
  "language_info": {
   "name": "python",
   "version": "3.7.10",
   "mimetype": "text/x-python",
   "codemirror_mode": {
    "name": "ipython",
    "version": 3
   },
   "pygments_lexer": "ipython3",
   "nbconvert_exporter": "python",
   "file_extension": ".py"
  }
 },
 "nbformat": 4,
 "nbformat_minor": 2
}