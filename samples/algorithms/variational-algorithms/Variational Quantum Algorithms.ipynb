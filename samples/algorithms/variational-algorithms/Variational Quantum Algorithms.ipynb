{
 "cells": [
  {
   "cell_type": "markdown",
   "source": [
    "# Variational Quantum Algorithms in Q\\#"
   ],
   "metadata": {}
  },
  {
   "cell_type": "markdown",
   "source": [
    "## Abstract"
   ],
   "metadata": {}
  },
  {
   "cell_type": "markdown",
   "source": [
    "In this sample, we will explore how the rich classical control provided by Q# can be used to efficiently write out variational quantum algorithms. In particular, we'll focus on the example of the _variational quantum eigensolver_, also known as VQE."
   ],
   "metadata": {}
  },
  {
   "cell_type": "markdown",
   "source": [
    "## Preamble\r\n",
    "\r\n",
    "$\r\n",
    "    \\renewcommand{\\ket}[1]{\\left|#1\\right\\rangle}\r\n",
    "$"
   ],
   "metadata": {}
  },
  {
   "cell_type": "code",
   "execution_count": 1,
   "source": [
    "from itertools import product, repeat, starmap"
   ],
   "outputs": [],
   "metadata": {}
  },
  {
   "cell_type": "code",
   "execution_count": 2,
   "source": [
    "import numpy as np\r\n",
    "import qutip as qt\r\n",
    "import qsharp"
   ],
   "outputs": [
    {
     "output_type": "stream",
     "name": "stdout",
     "text": [
      "Preparing Q# environment...\n"
     ]
    }
   ],
   "metadata": {}
  },
  {
   "cell_type": "markdown",
   "source": [
    "For Q# code embedded in this notebook, it will be helpful to open a few namespaces before we proceed."
   ],
   "metadata": {}
  },
  {
   "cell_type": "code",
   "execution_count": 5,
   "source": [
    "%%qsharp\r\n",
    "open Microsoft.Quantum.Arrays;\r\n",
    "open Microsoft.Quantum.Characterization;\r\n",
    "open Microsoft.Quantum.Convert;\r\n",
    "open Microsoft.Quantum.Diagnostics;\r\n",
    "open Microsoft.Quantum.Random;\r\n",
    "open Microsoft.Quantum.Math;"
   ],
   "outputs": [],
   "metadata": {}
  },
  {
   "cell_type": "markdown",
   "source": [
    "## Introducing the Variational Quantum Eigensolver"
   ],
   "metadata": {}
  },
  {
   "cell_type": "markdown",
   "source": [
    "In variational quantum algorithms, rather than performing all of our computation on the quantum device itself, we use a quantum program to estimate some quantity, then use a classical optimizer to find inputs to our quantum program that minimize or maximize that quantity. That is, rather than thinking of classical computation purely as a pre-processing or post-processing step, our computation uses both classical and quantum computation together."
   ],
   "metadata": {}
  },
  {
   "cell_type": "markdown",
   "source": [
    "> **💡 TIP:** We could also consider using classical computation while qubits are still alive, rather than returning an estimate to a classical optimizer. This approach is indeed very useful, for instance in iterative phase estimation. For this sample, however, we'll focus on the variational case."
   ],
   "metadata": {}
  },
  {
   "cell_type": "markdown",
   "source": [
    "\r\n",
    "For example, consider the problem of finding the _ground state energy_ of a given operator $H$, often called a _Hamiltonian_. The ground state energy of $H$ is defined as its smallest eigenvalue $E_0$, as the Hamiltonian represents the possible energy configurations of a given physical system.\r\n",
    "\r\n",
    "As stated, even though this is a minimization, we need to know the eigenvalues of $H$ to make any progress. It's pretty straightforward to rephrase the problem in terms of arbitrary states, however. In particular, the expectation value $\\left\\langle H \\right\\rangle H = \\left\\langle \\psi | H | \\psi \\right\\rangle$ must be at least as large as $E_0$. To see this, we can expand the expectation value in terms of the eigenvectors $\\{\\ket{\\phi_i}\\}$ of $H$, such that $H\\ket{\\phi_i} = E_i$.\r\n",
    "\r\n",
    "Since the decomposition of $H$ into eigenvectors gives us a basis, we know that $\\left\\langle \\phi_i | \\phi_j \\right\\rangle$ is zero whenever $i \\ne j$, allowing us to expand $\\ket{\\psi}$ into the eigenbasis of $H$ as $\\ket{\\psi} = \\sum_i \\alpha_i \\ket{\\phi_i}$ for some complex coefficients $\\{\\alpha_i\\}$. Using this decomposition, we can expand the expectation $\\left\\langle \\psi | H | \\psi \\right\\rangle$ in terms of the eigenvalues of $H$:\r\n",
    "\r\n",
    "$$\r\n",
    "\\begin{aligned}\r\n",
    "    \\left\\langle \\psi | H | \\psi \\right\\rangle\r\n",
    "        & = \\sum_i |\\alpha_i|^2 \\left\\langle \\phi_i | H | \\phi_i \\right\\rangle \\\\\r\n",
    "        & = \\sum_i |\\alpha_i|^2 \\left\\langle \\phi_i | E_i \\phi_i \\right\\rangle \\\\\r\n",
    "        & = \\sum_i |\\alpha_i|^2 E_i.\r\n",
    "\\end{aligned}\r\n",
    "$$\r\n",
    "\r\n",
    "Since each $|\\alpha_i|^2$ is nonnegative, and since $\\sum_i |\\alpha_i|^2 = 1$, the above gives us that\r\n",
    "$$\r\n",
    "    E_0 = \\min_i E_i \\le \\left\\langle \\psi | H | \\psi \\right\\rangle \\le \\max_i E_i.\r\n",
    "$$\r\n",
    "\r\n",
    "Thus, we can rephrase the original problem as a minimization not just over eigenstates, but of all arbitrary states,\r\n",
    "$$\r\n",
    "    E_0 = \\min_{\\ket{\\psi}} \\left\\langle \\psi | H | \\psi \\right\\rangle,\r\n",
    "$$\r\n",
    "where the minimum is achieved when $\\ket{\\psi} = \\ket{\\phi_0}$.\r\n",
    "\r\n",
    "Using this rephrasing, the _variational quantum eigensolver_ algorithm is just the variational algorithm that we get by using a classical optimizer to find $\\min_{\\ket{\\psi}} \\left\\langle \\psi | H | \\psi \\right\\rangle$. In pseudocode:\r\n",
    "\r\n",
    "```\r\n",
    "operation FindMinimumEigenvalue {\r\n",
    "    Pick an initial guess |ψ⟩.\r\n",
    "    until target accuracy reached {\r\n",
    "        Estimate E = ⟨ψ | H | ψ⟩ using a quantum operation.\r\n",
    "        Use a classical optimizer to pick the next |ψ⟩.\r\n",
    "    }\r\n",
    "    Return the minimum E that we found and the state |ψ⟩ that achieved that minimum.\r\n",
    "}\r\n",
    "```"
   ],
   "metadata": {}
  },
  {
   "cell_type": "markdown",
   "source": [
    "**TODO: diagram**"
   ],
   "metadata": {}
  },
  {
   "cell_type": "markdown",
   "source": [
    "To turn the above pseudocode into a real quantum program, we still need to figure out two things:\r\n",
    "\r\n",
    "- How to estimate $\\left\\langle \\psi | H | \\psi \\right\\rangle$ for a given state $\\ket{\\psi}$.\r\n",
    "- How to optimize over all quantum states $\\ket{\\psi}$.\r\n",
    "\r\n",
    "In the rest of this sample, we'll see how to do each of these, and how you can use Q# to write a VQE implementation."
   ],
   "metadata": {}
  },
  {
   "cell_type": "markdown",
   "source": [
    "## Estimating expectation values of $H$"
   ],
   "metadata": {}
  },
  {
   "cell_type": "markdown",
   "source": [
    "Before proceeding to see how to estimate $\\left\\langle \\psi | H | \\psi \\right\\rangle$, however, it helps to consider what that expectation value _is_. To do so, let's consider a concrete example of a two-qubit Hamiltonian, using QuTiP to construct a Python object representing $H$."
   ],
   "metadata": {}
  },
  {
   "cell_type": "code",
   "execution_count": 6,
   "source": [
    "H = qt.Qobj([\r\n",
    "    [-2, 0, 0, 3],\r\n",
    "    [0, 7, 0, 1],\r\n",
    "    [0, 0, -4, 0],\r\n",
    "    [3, 1, 0, -1]\r\n",
    "], dims=[[2, 2]] * 2)\r\n",
    "H"
   ],
   "outputs": [
    {
     "output_type": "execute_result",
     "data": {
      "text/plain": [
       "Quantum object: dims = [[2, 2], [2, 2]], shape = (4, 4), type = oper, isherm = True\n",
       "Qobj data =\n",
       "[[-2.  0.  0.  3.]\n",
       " [ 0.  7.  0.  1.]\n",
       " [ 0.  0. -4.  0.]\n",
       " [ 3.  1.  0. -1.]]"
      ],
      "text/latex": [
       "Quantum object: dims = [[2, 2], [2, 2]], shape = (4, 4), type = oper, isherm = True\\begin{equation*}\\left(\\begin{array}{*{11}c}-2.0 & 0.0 & 0.0 & 3.0\\\\0.0 & 7.0 & 0.0 & 1.0\\\\0.0 & 0.0 & -4.0 & 0.0\\\\3.0 & 1.0 & 0.0 & -1.0\\\\\\end{array}\\right)\\end{equation*}"
      ]
     },
     "metadata": {},
     "execution_count": 6
    }
   ],
   "metadata": {}
  },
  {
   "cell_type": "markdown",
   "source": [
    "Here, `H` is a Python object representing the 4 × 4 matrix $H$. We can use the `eigenstates` method provided by QuTiP to quickly find the eigenvalues and eigenvectors of $H$:"
   ],
   "metadata": {}
  },
  {
   "cell_type": "code",
   "execution_count": 7,
   "source": [
    "H.eigenstates()"
   ],
   "outputs": [
    {
     "output_type": "execute_result",
     "data": {
      "text/plain": [
       "(array([-4.57776672, -4.        ,  1.43800535,  7.13976137]),\n",
       " array([Quantum object: dims = [[2, 2], [1, 1]], shape = (4, 1), type = ket\n",
       "        Qobj data =\n",
       "        [[ 0.75726547]\n",
       "         [ 0.05620122]\n",
       "         [ 0.        ]\n",
       "         [-0.65068458]]                                                    ,\n",
       "        Quantum object: dims = [[2, 2], [1, 1]], shape = (4, 1), type = ket\n",
       "        Qobj data =\n",
       "        [[ 0.]\n",
       "         [ 0.]\n",
       "         [-1.]\n",
       "         [ 0.]]                                                            ,\n",
       "        Quantum object: dims = [[2, 2], [1, 1]], shape = (4, 1), type = ket\n",
       "        Qobj data =\n",
       "        [[-0.65152827]\n",
       "         [ 0.13424187]\n",
       "         [ 0.        ]\n",
       "         [-0.74665256]]                                                    ,\n",
       "        Quantum object: dims = [[2, 2], [1, 1]], shape = (4, 1), type = ket\n",
       "        Qobj data =\n",
       "        [[0.04538633]\n",
       "         [0.9893536 ]\n",
       "         [0.        ]\n",
       "         [0.13827341]]                                                     ],\n",
       "       dtype=object))"
      ]
     },
     "metadata": {},
     "execution_count": 7
    }
   ],
   "metadata": {}
  },
  {
   "cell_type": "markdown",
   "source": [
    "In particular, we can use the `min` function provided by Python to minimize over the eigenvalues of $H$ and find its ground state $\\ket{\\phi_0}$."
   ],
   "metadata": {}
  },
  {
   "cell_type": "code",
   "execution_count": 6,
   "source": [
    "min_energy, ground_state = min(zip(*H.eigenstates()), key=lambda eig: eig[0])\r\n",
    "min_energy, ground_state"
   ],
   "outputs": [
    {
     "output_type": "execute_result",
     "data": {
      "text/plain": [
       "(-4.577766724471026,\n",
       " Quantum object: dims = [[2, 2], [1, 1]], shape = (4, 1), type = ket\n",
       " Qobj data =\n",
       " [[ 0.75726547]\n",
       "  [ 0.05620122]\n",
       "  [ 0.        ]\n",
       "  [-0.65068458]])"
      ]
     },
     "metadata": {},
     "execution_count": 6
    }
   ],
   "metadata": {}
  },
  {
   "cell_type": "markdown",
   "source": [
    "Here, `ground_state` represents the eigenvector $\\ket{\\phi_0}$ corresponding to the smallest eigenvalue $E_0$ of $H$. By the above argument, we would expect that $\\left\\langle \\phi_0 | H | \\phi_0 \\right\\rangle = E_0$. We can check that using QuTiP as well:"
   ],
   "metadata": {}
  },
  {
   "cell_type": "code",
   "execution_count": 7,
   "source": [
    "(ground_state.dag() * H * ground_state)[0, 0]"
   ],
   "outputs": [
    {
     "output_type": "execute_result",
     "data": {
      "text/plain": [
       "(-4.577766724471031+0j)"
      ]
     },
     "metadata": {},
     "execution_count": 7
    }
   ],
   "metadata": {}
  },
  {
   "cell_type": "markdown",
   "source": [
    "What's going on here? Effectively, for any operator $O$ such that $O^{\\dagger} = O$, expressions like $\\left\\langle \\psi | O | \\psi \\right\\rangle$ represent another way of thinking about quantum measurement. In particular, if we think of the eigenvalues of $O$ as labels for its corresponding various eigenvectors, then $\\left\\langle \\psi | O | \\psi \\right\\rangle$ is the average label that we get when we measure $O$ in the basis of its eigenvectors."
   ],
   "metadata": {}
  },
  {
   "cell_type": "markdown",
   "source": [
    "> **💡 TIP:** This way of thinking about quantum measurement is sometimes called the _observable framework_, with $O$ being called an _observable_. We avoid using this terminology here to avoid confusion, however, as the expectation value of $O$ cannot be observed directly, but only inferred from repeated measurements."
   ],
   "metadata": {}
  },
  {
   "cell_type": "markdown",
   "source": [
    "For example, if $O = Z$, then the eigenstate $\\ket{0}$ is labeled by its eigenvalue $+1$, while $\\ket{1}$ is labeled by $-1$. The expectation value $\\left\\langle \\psi | Z | \\psi \\right\\rangle$ is then the probability of getting a `Zero` minus the probability of getting a `One`.\r\n",
    "\r\n",
    "More generally, finding the expectation value of an arbitrary Pauli operator for an arbitrary input state is straightforward using the `Measure` and `EstimateFrequencyA` operations."
   ],
   "metadata": {}
  },
  {
   "cell_type": "code",
   "execution_count": 8,
   "source": [
    "%%qsharp\r\n",
    "\r\n",
    "operation EstimatePauliExpectation(pauli : Pauli[], preparation : (Qubit[] => Unit is Adj), nShots : Int) : Double {\r\n",
    "    return 2.0 * EstimateFrequencyA(\r\n",
    "        preparation,\r\n",
    "        Measure(pauli, _),\r\n",
    "        Length(pauli),\r\n",
    "        nShots\r\n",
    "    ) - 1.0;\r\n",
    "}"
   ],
   "outputs": [],
   "metadata": {}
  },
  {
   "cell_type": "markdown",
   "source": [
    "Here, we've represented the state $\\ket{\\psi}$ by an operation `preparation` that prepares that state. Since each Pauli operator other than the identity operator has exactly two eigenvalues, $+1$ and $-1$, corresponding to `Zero` and `One` respectively, we can turn the estimate of the probability $p_0$ with which `Measure(pauli, _)` returns `Zero` into an expectation value $p_0 - p_1 = p_0 - (1 - p_0) = 2 p_0 - 1$.\r\n",
    "\r\n",
    "For example, doing nothing prepares the state $\\ket{0}$, so we get an expectation value of $1$:"
   ],
   "metadata": {}
  },
  {
   "cell_type": "code",
   "execution_count": 9,
   "source": [
    "%%qsharp\r\n",
    "\r\n",
    "operation EstimateExpectationOfZero() : Double {\r\n",
    "    return EstimatePauliExpectation(\r\n",
    "        [PauliZ],\r\n",
    "        NoOp,\r\n",
    "        100\r\n",
    "    );\r\n",
    "}"
   ],
   "outputs": [],
   "metadata": {}
  },
  {
   "cell_type": "code",
   "execution_count": 10,
   "source": [
    "EstimateExpectationOfZero.simulate()"
   ],
   "outputs": [
    {
     "output_type": "execute_result",
     "data": {
      "text/plain": [
       "1.0"
      ]
     },
     "metadata": {},
     "execution_count": 10
    }
   ],
   "metadata": {}
  },
  {
   "cell_type": "markdown",
   "source": [
    "Similarly, using `X` to prepare $\\ket{1}$ gives us an expectation of $-1$, while using `H` to prepare $\\ket{+} = \\frac{1}{\\sqrt{2}} (\\ket{0} + \\ket{1})$ gives an expectation value of $0$."
   ],
   "metadata": {}
  },
  {
   "cell_type": "code",
   "execution_count": 11,
   "source": [
    "%%qsharp\r\n",
    "\r\n",
    "operation EstimateExpectationOfOne() : Double {\r\n",
    "    return EstimatePauliExpectation(\r\n",
    "        [PauliZ],\r\n",
    "        ApplyToEachCA(X, _),\r\n",
    "        100\r\n",
    "    );\r\n",
    "}"
   ],
   "outputs": [],
   "metadata": {}
  },
  {
   "cell_type": "code",
   "execution_count": 12,
   "source": [
    "EstimateExpectationOfOne.simulate()"
   ],
   "outputs": [
    {
     "output_type": "execute_result",
     "data": {
      "text/plain": [
       "-1.0"
      ]
     },
     "metadata": {},
     "execution_count": 12
    }
   ],
   "metadata": {}
  },
  {
   "cell_type": "code",
   "execution_count": 13,
   "source": [
    "%%qsharp\r\n",
    "\r\n",
    "operation EstimateExpectationOfPlus() : Double {\r\n",
    "    return EstimatePauliExpectation(\r\n",
    "        [PauliZ],\r\n",
    "        ApplyToEachCA(H, _),\r\n",
    "        100\r\n",
    "    );\r\n",
    "}"
   ],
   "outputs": [],
   "metadata": {}
  },
  {
   "cell_type": "code",
   "execution_count": 14,
   "source": [
    "EstimateExpectationOfPlus.simulate()"
   ],
   "outputs": [
    {
     "output_type": "execute_result",
     "data": {
      "text/plain": [
       "0.08000000000000007"
      ]
     },
     "metadata": {},
     "execution_count": 14
    }
   ],
   "metadata": {}
  },
  {
   "cell_type": "markdown",
   "source": [
    "Note that in practice, we won't always get exactly 0 due to using a finite number of measurements."
   ],
   "metadata": {}
  },
  {
   "cell_type": "markdown",
   "source": [
    "In any case, to recap, it's easy to use a quantum program to find $\\left\\langle \\psi | H | \\psi \\right\\rangle$ in the special case that $H$ is a multi-qubit Pauli operator. What about the more general case? The linearity of quantum mechanics saves us again! It turns out that we can expand the expectation of any other operator in terms of expectations of Pauli operators. To see how that works, suppose that $H = 2 Z - X$."
   ],
   "metadata": {}
  },
  {
   "cell_type": "code",
   "execution_count": 15,
   "source": [
    "2 * qt.sigmaz() - qt.sigmax()"
   ],
   "outputs": [
    {
     "output_type": "execute_result",
     "data": {
      "text/plain": [
       "Quantum object: dims = [[2], [2]], shape = (2, 2), type = oper, isherm = True\n",
       "Qobj data =\n",
       "[[ 2. -1.]\n",
       " [-1. -2.]]"
      ],
      "text/latex": [
       "Quantum object: dims = [[2], [2]], shape = (2, 2), type = oper, isherm = True\\begin{equation*}\\left(\\begin{array}{*{11}c}2.0 & -1.0\\\\-1.0 & -2.0\\\\\\end{array}\\right)\\end{equation*}"
      ]
     },
     "metadata": {},
     "execution_count": 15
    }
   ],
   "metadata": {}
  },
  {
   "cell_type": "markdown",
   "source": [
    "We can expand $\\left\\langle \\psi | (2Z - X) | \\psi \\right\\rangle$ by using linearity:\r\n",
    "\r\n",
    "$$\r\n",
    "    \\left\\langle \\psi | (2Z - X) | \\psi \\right\\rangle = 2 \\left\\langle \\psi | Z | \\psi \\right\\rangle - \\left\\langle \\psi | X | \\psi \\right\\rangle.\r\n",
    "$$"
   ],
   "metadata": {}
  },
  {
   "cell_type": "markdown",
   "source": [
    "Each of the terms in this expansion is something that we can estimate easily using our `EstimatePauliExpectation` operation from above."
   ],
   "metadata": {}
  },
  {
   "cell_type": "code",
   "execution_count": 16,
   "source": [
    "%%qsharp\r\n",
    "\r\n",
    "operation EstimateExpectation(terms : (Double, Pauli[])[], preparation : (Qubit[] => Unit is Adj), nShots : Int) : Double {\r\n",
    "    mutable sum = 0.0;\r\n",
    "    for (coefficient, pauli) in terms {\r\n",
    "        set sum += coefficient * EstimatePauliExpectation(\r\n",
    "            pauli, preparation, nShots\r\n",
    "        );\r\n",
    "    }\r\n",
    "    return sum;\r\n",
    "}"
   ],
   "outputs": [],
   "metadata": {}
  },
  {
   "cell_type": "markdown",
   "source": [
    "With this, we almost have everything we need to estimate expectations $\\left\\langle \\psi | H | \\psi \\right\\rangle$. We just need a way of finding the decomposition of $H$ into Pauli operators. Thankfully, QuTiP can help here as well."
   ],
   "metadata": {}
  },
  {
   "cell_type": "code",
   "execution_count": 17,
   "source": [
    "def pauli_basis(n_qubits):\r\n",
    "    scale = 2 ** n_qubits\r\n",
    "    return {\r\n",
    "        tuple(P): qt.tensor(*(p.as_qobj() for p in P)) / scale\r\n",
    "        for P in product(qsharp.Pauli, repeat=n_qubits)\r\n",
    "    }"
   ],
   "outputs": [],
   "metadata": {}
  },
  {
   "cell_type": "code",
   "execution_count": 18,
   "source": [
    "def expand_in_pauli_basis(op):\r\n",
    "    return [\r\n",
    "        (coeff, list(label))\r\n",
    "        for label, coeff in {\r\n",
    "            label: (P.dag() * op).tr()\r\n",
    "            for label, P in pauli_basis(n_qubits=len(op.dims[0])).items()\r\n",
    "        }.items()\r\n",
    "        if abs(coeff) >= 1e-10\r\n",
    "    ]"
   ],
   "outputs": [],
   "metadata": {}
  },
  {
   "cell_type": "markdown",
   "source": [
    "For example, we can use the two functions above to find that $H = -3 𝟙 \\otimes Z + 0.5 X \\otimes 𝟙 + 1.5 X \\otimes X - 0.5 X \\otimes Z - 1.5 Y \\otimes Y + 2.5 Z \\otimes 𝟙 - 1.5 Z \\otimes Z$:"
   ],
   "metadata": {}
  },
  {
   "cell_type": "code",
   "execution_count": 19,
   "source": [
    "H_decomposition = expand_in_pauli_basis(H)\r\n",
    "H_decomposition"
   ],
   "outputs": [
    {
     "output_type": "execute_result",
     "data": {
      "text/plain": [
       "[(-3.0, [<Pauli.I: 0>, <Pauli.Z: 2>]),\n",
       " (0.5, [<Pauli.X: 1>, <Pauli.I: 0>]),\n",
       " (1.5, [<Pauli.X: 1>, <Pauli.X: 1>]),\n",
       " (-0.5, [<Pauli.X: 1>, <Pauli.Z: 2>]),\n",
       " (-1.5, [<Pauli.Y: 3>, <Pauli.Y: 3>]),\n",
       " (2.5, [<Pauli.Z: 2>, <Pauli.I: 0>]),\n",
       " (-1.5, [<Pauli.Z: 2>, <Pauli.Z: 2>])]"
      ]
     },
     "metadata": {},
     "execution_count": 19
    }
   ],
   "metadata": {}
  },
  {
   "cell_type": "markdown",
   "source": [
    "This decomposition is exactly what we need to pass as `terms` above. For example, to estimate the expectation of the $\\ket{++}$ state, $\\left\\langle ++ | H | ++ \\right\\rangle$, we can pass `terms` to `EstimateExpectation`. In doing so, we'll use the name \"energy\" for our new operation, pointing to that expectation values of Hamiltonian operators $H$ represent the average energy of a system given the quantum state of that system."
   ],
   "metadata": {}
  },
  {
   "cell_type": "code",
   "execution_count": 20,
   "source": [
    "%%qsharp\r\n",
    "\r\n",
    "operation EstimateEnergyOfPlus(terms : (Double, Pauli[])[]) : Double {\r\n",
    "    return EstimateExpectation(\r\n",
    "        terms,\r\n",
    "        ApplyToEachCA(H, _),\r\n",
    "        100\r\n",
    "    );\r\n",
    "}"
   ],
   "outputs": [],
   "metadata": {}
  },
  {
   "cell_type": "code",
   "execution_count": 21,
   "source": [
    "EstimateEnergyOfPlus.simulate(terms=H_decomposition)"
   ],
   "outputs": [
    {
     "output_type": "execute_result",
     "data": {
      "text/plain": [
       "1.7599999999999998"
      ]
     },
     "metadata": {},
     "execution_count": 21
    }
   ],
   "metadata": {}
  },
  {
   "cell_type": "markdown",
   "source": [
    "This is pretty far from the minimum $E_0$ we found from the eigenvalue decomposition above, so in the next part we'll see one more trick we can use to write our VQE implementation."
   ],
   "metadata": {}
  },
  {
   "cell_type": "markdown",
   "source": [
    "## Preparing ansatz states"
   ],
   "metadata": {}
  },
  {
   "cell_type": "markdown",
   "source": [
    "Recall that our goal is to use a classical optimizer to find the minimum energy $E_0$ of some Hamiltonian operator $H$:\r\n",
    "$$\r\n",
    "    E_0 = \\min_{\\ket{\\psi}} \\left\\langle \\psi | H | \\psi \\right\\rangle.\r\n",
    "$$"
   ],
   "metadata": {}
  },
  {
   "cell_type": "markdown",
   "source": [
    "In practice, we can't reasonably optimize over all possible quantum states $\\ket{\\psi}$, so that the above optimization problem is intractable for all but the smallest systems. Instead, we note that we can find an upper-bound for $E_0$ by solving a simpler problem. Suppose that there is a set $A$ of states that are easier to prepare. Then,\r\n",
    "$$\r\n",
    "    E_0 = \\min_{\\ket{\\psi}} \\left\\langle \\psi | H | \\psi \\right\\rangle \\le \\min_{\\ket{\\psi} \\in A} \\left\\langle \\psi | H | \\psi \\right\\rangle.\r\n",
    "$$"
   ],
   "metadata": {}
  },
  {
   "cell_type": "markdown",
   "source": [
    "If we choose $A$ carefully so that $\\ket{\\phi_0} \\in A$, this inequality will be tight. More often, however, $\\ket{\\phi_0}$ won't actually be in $A$, but will be close to some other state in $A$, giving us a reasonable approximation to $E_0$."
   ],
   "metadata": {}
  },
  {
   "cell_type": "markdown",
   "source": [
    "We say that $A$ is our _ansatz_ for running VQE; in this way, $A$ plays a similar role to a model in an ML training loop, representing what we believe to be a reasonable set of guesses for $\\ket{\\phi_0}$. One can get pretty involved with their choice of ansatz, but for this sample, we'll choose a really simple one, and set $A$ to be those states that can be prepared by a small number of Pauli rotations."
   ],
   "metadata": {}
  },
  {
   "cell_type": "code",
   "execution_count": 22,
   "source": [
    "%%qsharp\r\n",
    "\r\n",
    "operation PrepareAnsatz(axes : Pauli[][], angles : Double[], register : Qubit[]) : Unit is Adj {\r\n",
    "    for (axis, angle) in Zipped(axes, angles) {\r\n",
    "        Exp(axis, angle, register);\r\n",
    "    }\r\n",
    "}"
   ],
   "outputs": [],
   "metadata": {}
  },
  {
   "cell_type": "markdown",
   "source": [
    "Our minimization $\\min_{\\ket{\\psi} \\in A} \\left\\langle \\psi | H | \\psi \\right\\rangle$ is now a minimization over `angles` for some fixed list of Pauli rotation axes. Using `DumpMachine` and `DumpRegister`, we can visualize how this ansatz works for a few different choices of parameters `angles`, convincing ourselves that $A$ contains enough interesting states to find $E_0$."
   ],
   "metadata": {}
  },
  {
   "cell_type": "code",
   "execution_count": 23,
   "source": [
    "%%qsharp\r\n",
    "\r\n",
    "operation DumpAnsatz(axes : Pauli[][], angles : Double[]) : Unit {\r\n",
    "    use register = Qubit[Length(angles)];\r\n",
    "    within {\r\n",
    "        PrepareAnsatz(axes, angles, register);\r\n",
    "    } apply {\r\n",
    "        DumpRegister((), register);\r\n",
    "    }\r\n",
    "}"
   ],
   "outputs": [],
   "metadata": {}
  },
  {
   "cell_type": "code",
   "execution_count": 24,
   "source": [
    "ansatz_axes = [[qsharp.Pauli.Z, qsharp.Pauli.Z], [qsharp.Pauli.X, qsharp.Pauli.Y]]"
   ],
   "outputs": [],
   "metadata": {}
  },
  {
   "cell_type": "code",
   "execution_count": 25,
   "source": [
    "DumpAnsatz.simulate(axes=ansatz_axes, angles=[1.2, 1.9])"
   ],
   "outputs": [
    {
     "output_type": "display_data",
     "data": {
      "text/plain": [
       "|00⟩\t-0.11714648149439554 + -0.3013185124022002𝑖\n",
       "|11⟩\t-0.3428991748354909 + -0.881988668778884𝑖"
      ],
      "text/html": [
       "\r\n",
       "                    <table style=\"table-layout: fixed; width: 100%\">\r\n",
       "                        <thead>\r\n",
       "                            \r\n",
       "                        <tr>\r\n",
       "                            <th>Qubit IDs</th>\r\n",
       "                            <td span=\"3\">0, 1</td>\r\n",
       "                        </tr>\r\n",
       "                    \r\n",
       "                            <tr>\r\n",
       "                                <th style=\"width: 20ch)\">Basis state (bitstring)</th>\r\n",
       "                                <th style=\"width: 20ch\">Amplitude</th><th style=\"width: calc(100% - 26ch - 20ch)\">Meas. Pr.</th><th style=\"width: 6ch\">Phase</th>\r\n",
       "                            </tr>\r\n",
       "                        </thead>\r\n",
       "                        <tbody>\r\n",
       "                        \r\n",
       "                            <tr>\r\n",
       "                                <td>$\\left|00\\right\\rangle$</td>\r\n",
       "                                <td>$-0.1171  -0.3013 i$</td>\r\n",
       "                                \r\n",
       "                                <td>\r\n",
       "                                    <progress\r\n",
       "                                        max=\"100\"\r\n",
       "                                        value=\"10.451614404279164\"\r\n",
       "                                        style=\"width: 100%;\"\r\n",
       "                                    > \r\n",
       "                                    <td>\r\n",
       "                                    <p id=\"round-a3620649-7e0d-4644-aba8-64d52c78a7b9\"> \r\n",
       "                                    <script>\r\n",
       "                                    var num = 10.451614404279164;\r\n",
       "                                    num = num.toFixed(4);\r\n",
       "                                    var num_string = num + \"%\";\r\n",
       "                                     document.getElementById(\"round-a3620649-7e0d-4644-aba8-64d52c78a7b9\").innerHTML = num_string;\r\n",
       "                                    </script> </p>\r\n",
       "                                    </td>\r\n",
       "                                </td>\r\n",
       "                            \r\n",
       "                                \r\n",
       "                                <td style=\"transform: rotate(-111.24506458430123deg);\r\n",
       "                   text-align: center;\">\r\n",
       "                                 ↑\r\n",
       "                                </td>\r\n",
       "                            \r\n",
       "                            </tr>\r\n",
       "                        \n",
       "\r\n",
       "                            <tr>\r\n",
       "                                <td>$\\left|11\\right\\rangle$</td>\r\n",
       "                                <td>$-0.3429  -0.8820 i$</td>\r\n",
       "                                \r\n",
       "                                <td>\r\n",
       "                                    <progress\r\n",
       "                                        max=\"100\"\r\n",
       "                                        value=\"89.54838559572087\"\r\n",
       "                                        style=\"width: 100%;\"\r\n",
       "                                    > \r\n",
       "                                    <td>\r\n",
       "                                    <p id=\"round-c0986bfe-a430-42a8-a610-c9cb21a4125d\"> \r\n",
       "                                    <script>\r\n",
       "                                    var num = 89.54838559572087;\r\n",
       "                                    num = num.toFixed(4);\r\n",
       "                                    var num_string = num + \"%\";\r\n",
       "                                     document.getElementById(\"round-c0986bfe-a430-42a8-a610-c9cb21a4125d\").innerHTML = num_string;\r\n",
       "                                    </script> </p>\r\n",
       "                                    </td>\r\n",
       "                                </td>\r\n",
       "                            \r\n",
       "                                \r\n",
       "                                <td style=\"transform: rotate(-111.24506458430123deg);\r\n",
       "                   text-align: center;\">\r\n",
       "                                 ↑\r\n",
       "                                </td>\r\n",
       "                            \r\n",
       "                            </tr>\r\n",
       "                        \r\n",
       "                        </tbody>\r\n",
       "                    </table>"
      ],
      "application/x-qsharp-data": "{\"diagnostic_kind\":\"state-vector\",\"div_id\":\"dump-machine-div-9f284d8d-23ab-410c-9594-177dc366a0f2\",\"qubit_ids\":[0,1],\"n_qubits\":2,\"amplitudes\":[{\"Real\":-0.11714648149439554,\"Imaginary\":-0.3013185124022002,\"Magnitude\":0.3232895668635034,\"Phase\":-1.9415926535897934},{\"Real\":0.0,\"Imaginary\":0.0,\"Magnitude\":0.0,\"Phase\":0.0},{\"Real\":-0.0,\"Imaginary\":0.0,\"Magnitude\":0.0,\"Phase\":3.141592653589793},{\"Real\":-0.3428991748354909,\"Imaginary\":-0.881988668778884,\"Magnitude\":0.9463000876874147,\"Phase\":-1.9415926535897934}]}"
     },
     "metadata": {}
    },
    {
     "output_type": "execute_result",
     "data": {
      "text/plain": [
       "()"
      ]
     },
     "metadata": {},
     "execution_count": 25
    }
   ],
   "metadata": {}
  },
  {
   "cell_type": "code",
   "execution_count": 26,
   "source": [
    "DumpAnsatz.simulate(axes=ansatz_axes, angles=[1.2, -0.7])"
   ],
   "outputs": [
    {
     "output_type": "display_data",
     "data": {
      "text/plain": [
       "|00⟩\t0.27714649751343473 + 0.7128628131458088𝑖\n",
       "|11⟩\t0.23343727454160576 + 0.600436064376938𝑖"
      ],
      "text/html": [
       "\r\n",
       "                    <table style=\"table-layout: fixed; width: 100%\">\r\n",
       "                        <thead>\r\n",
       "                            \r\n",
       "                        <tr>\r\n",
       "                            <th>Qubit IDs</th>\r\n",
       "                            <td span=\"3\">0, 1</td>\r\n",
       "                        </tr>\r\n",
       "                    \r\n",
       "                            <tr>\r\n",
       "                                <th style=\"width: 20ch)\">Basis state (bitstring)</th>\r\n",
       "                                <th style=\"width: 20ch\">Amplitude</th><th style=\"width: calc(100% - 26ch - 20ch)\">Meas. Pr.</th><th style=\"width: 6ch\">Phase</th>\r\n",
       "                            </tr>\r\n",
       "                        </thead>\r\n",
       "                        <tbody>\r\n",
       "                        \r\n",
       "                            <tr>\r\n",
       "                                <td>$\\left|00\\right\\rangle$</td>\r\n",
       "                                <td>$0.2771 + 0.7129 i$</td>\r\n",
       "                                \r\n",
       "                                <td>\r\n",
       "                                    <progress\r\n",
       "                                        max=\"100\"\r\n",
       "                                        value=\"58.49835714501207\"\r\n",
       "                                        style=\"width: 100%;\"\r\n",
       "                                    > \r\n",
       "                                    <td>\r\n",
       "                                    <p id=\"round-b47890f6-267c-46fa-a468-3c6d6610ef99\"> \r\n",
       "                                    <script>\r\n",
       "                                    var num = 58.49835714501207;\r\n",
       "                                    num = num.toFixed(4);\r\n",
       "                                    var num_string = num + \"%\";\r\n",
       "                                     document.getElementById(\"round-b47890f6-267c-46fa-a468-3c6d6610ef99\").innerHTML = num_string;\r\n",
       "                                    </script> </p>\r\n",
       "                                    </td>\r\n",
       "                                </td>\r\n",
       "                            \r\n",
       "                                \r\n",
       "                                <td style=\"transform: rotate(68.75493541569878deg);\r\n",
       "                   text-align: center;\">\r\n",
       "                                 ↑\r\n",
       "                                </td>\r\n",
       "                            \r\n",
       "                            </tr>\r\n",
       "                        \n",
       "\r\n",
       "                            <tr>\r\n",
       "                                <td>$\\left|11\\right\\rangle$</td>\r\n",
       "                                <td>$0.2334 + 0.6004 i$</td>\r\n",
       "                                \r\n",
       "                                <td>\r\n",
       "                                    <progress\r\n",
       "                                        max=\"100\"\r\n",
       "                                        value=\"41.50164285498795\"\r\n",
       "                                        style=\"width: 100%;\"\r\n",
       "                                    > \r\n",
       "                                    <td>\r\n",
       "                                    <p id=\"round-618d4c20-4d72-473b-ba10-e6fe32d64707\"> \r\n",
       "                                    <script>\r\n",
       "                                    var num = 41.50164285498795;\r\n",
       "                                    num = num.toFixed(4);\r\n",
       "                                    var num_string = num + \"%\";\r\n",
       "                                     document.getElementById(\"round-618d4c20-4d72-473b-ba10-e6fe32d64707\").innerHTML = num_string;\r\n",
       "                                    </script> </p>\r\n",
       "                                    </td>\r\n",
       "                                </td>\r\n",
       "                            \r\n",
       "                                \r\n",
       "                                <td style=\"transform: rotate(68.75493541569878deg);\r\n",
       "                   text-align: center;\">\r\n",
       "                                 ↑\r\n",
       "                                </td>\r\n",
       "                            \r\n",
       "                            </tr>\r\n",
       "                        \r\n",
       "                        </tbody>\r\n",
       "                    </table>"
      ],
      "application/x-qsharp-data": "{\"diagnostic_kind\":\"state-vector\",\"div_id\":\"dump-machine-div-0a397bc2-bfa5-4a90-92c7-be1e7a06f23b\",\"qubit_ids\":[0,1],\"n_qubits\":2,\"amplitudes\":[{\"Real\":0.27714649751343473,\"Imaginary\":0.7128628131458088,\"Magnitude\":0.7648421872844886,\"Phase\":1.2},{\"Real\":0.0,\"Imaginary\":0.0,\"Magnitude\":0.0,\"Phase\":0.0},{\"Real\":0.0,\"Imaginary\":0.0,\"Magnitude\":0.0,\"Phase\":0.0},{\"Real\":0.23343727454160576,\"Imaginary\":0.600436064376938,\"Magnitude\":0.644217687237691,\"Phase\":1.2}]}"
     },
     "metadata": {}
    },
    {
     "output_type": "execute_result",
     "data": {
      "text/plain": [
       "()"
      ]
     },
     "metadata": {},
     "execution_count": 26
    }
   ],
   "metadata": {}
  },
  {
   "cell_type": "markdown",
   "source": [
    "At this point, it's helpful to write some new operations that directly estimate the energy of a state given a parameterization of our ansatz, rather than an opaque operation that prepares the state."
   ],
   "metadata": {}
  },
  {
   "cell_type": "code",
   "execution_count": 27,
   "source": [
    "%%qsharp\r\n",
    "\r\n",
    "operation EstimateEnergyAtAnsatz(terms : (Double, Pauli[])[], axes : Pauli[][], angles : Double[], nShots : Int) : Double {\r\n",
    "    return EstimateExpectation(\r\n",
    "        terms,\r\n",
    "        PrepareAnsatz(axes, angles, _),\r\n",
    "        nShots\r\n",
    "    );\r\n",
    "}"
   ],
   "outputs": [],
   "metadata": {}
  },
  {
   "cell_type": "code",
   "execution_count": 28,
   "source": [
    "EstimateEnergyAtAnsatz.simulate(\r\n",
    "    terms=H_decomposition,\r\n",
    "    axes=ansatz_axes,\r\n",
    "    angles=[1.2, 1.9],\r\n",
    "    nShots=1000\r\n",
    ")"
   ],
   "outputs": [
    {
     "output_type": "execute_result",
     "data": {
      "text/plain": [
       "0.6689999999999996"
      ]
     },
     "metadata": {},
     "execution_count": 28
    }
   ],
   "metadata": {}
  },
  {
   "cell_type": "markdown",
   "source": [
    "## Running VQE in Q\\#"
   ],
   "metadata": {}
  },
  {
   "cell_type": "markdown",
   "source": [
    "Using this new operation, we have something that looks much more like classical optimization problems that we may be used to! Indeed, we can simply use our favorite optimization algorithm to pick different values for `angles` until we find a good approximation for $E_0$. In this sample, we'll use the _SPSA algorithm_ to optimize `angles`, as this algorithm works especially well for objective functions that have some amount of noise, such as that added by taking a finite number of shots above.\r\n",
    "\r\n",
    "We won't go through the details of SPSA here, but if you're interested to learn more, check out [`Optimization.qs`](../edit/Optimization.qs) in this folder to see how we implemented SPSA in Q#."
   ],
   "metadata": {}
  },
  {
   "cell_type": "code",
   "execution_count": 29,
   "source": [
    "%%qsharp\r\n",
    "\r\n",
    "open Microsoft.Quantum.Samples;\r\n",
    "\r\n",
    "operation FindMinimumEnergy(terms : (Double, Pauli[])[], axes : Pauli[][], initialGuess : Double[], nShots : Int) : (Double[], Double) {\r\n",
    "    let oracle = EstimateEnergyAtAnsatz(terms, axes, _, nShots);\r\n",
    "    let options = DefaultSpsaOptions();\r\n",
    "    return FindMinimumWithSpsa(\r\n",
    "        oracle,\r\n",
    "        initialGuess,\r\n",
    "        options\r\n",
    "    );\r\n",
    "}"
   ],
   "outputs": [],
   "metadata": {}
  },
  {
   "cell_type": "code",
   "execution_count": 30,
   "source": [
    "FindMinimumEnergy.simulate(terms=H_decomposition, axes=ansatz_axes, initialGuess=[1.2, 1.9], nShots=10_000)"
   ],
   "outputs": [
    {
     "output_type": "stream",
     "name": "stdout",
     "text": [
      "Iteration 1:\r\n",
      "\tobj([1.3,1.7999999999999998]) = 0.23789999999999933\n",
      "\tobj([1.0999999999999999,2]) = 1.0606999999999989\r\n",
      "Iteration 2:\r\n",
      "\tobj([5.4072386486436805,-2.3072386486436804]) = -4.443300000000001\n",
      "\tobj([5.220761351356314,-2.120761351356314]) = -3.9806999999999997\r\n",
      "Iteration 3:\r\n",
      "\tobj([7.037902178086054,-3.937902178086054]) = 1.5017999999999998\n",
      "\tobj([6.858907240214701,-3.7589072402147017]) = 1.1875999999999998\r\n",
      "Iteration 4:\r\n",
      "\tobj([5.9554488934051255,-2.8554488934051263]) = -3.5013\n",
      "\tobj([6.12931780542313,-3.0293178054231302]) = -2.6095\r\n",
      "Iteration 5:\r\n",
      "\tobj([3.9009690359209475,-0.8009690359209479]) = 1.5058999999999996\n",
      "\tobj([3.730974866762821,-0.6309748667628211]) = 1.2235\r\n",
      "Iteration 6:\r\n",
      "\tobj([3.2689680723727736,-0.16896807237277411]) = -1.0234999999999999\n",
      "\tobj([3.102075611160924,-0.002075611160924487]) = -2.0348000000000006\r\n",
      "Iteration 7:\r\n",
      "\tobj([1.0427526924439467,1.8929331087197825]) = 0.6591000000000005\n",
      "\tobj([1.207066891280217,2.0572473075560525]) = 1.2284000000000006\r\n",
      "Iteration 8:\r\n",
      "\tobj([0.13218195359203944,0.8202493458908133]) = -4.464700000000001\n",
      "\tobj([-0.029931070385022407,0.9823623698678752]) = -4.104799999999999\r\n",
      "Iteration 9:\r\n",
      "\tobj([0.6059251921980732,0.3465061072847796]) = -3.7606000000000006\n",
      "\tobj([0.7661211311159201,0.18631016836693268]) = -3.016\r\n",
      "Iteration 10:\r\n",
      "\tobj([-0.6315032091450663,1.583934508627919]) = -0.9689999999999999\n",
      "\tobj([-0.47300294304897195,1.4254342425318245]) = -1.8338000000000005\r\n",
      "Iteration 11:\r\n",
      "\tobj([0.8904618284608332,0.2189512818433449]) = -3.1862000000000004\n",
      "\tobj([0.7334800176395078,0.061969471022019454]) = -2.3197\r\n",
      "Iteration 12:\r\n",
      "\tobj([2.1929443481764768,1.5214338015589883]) = -1.2516999999999996\n",
      "\tobj([2.037336072654365,1.3658255260368766]) = -2.1906\r\n",
      "Iteration 13:\r\n",
      "\tobj([0.6861404394380952,0.1689852535657936]) = -2.9084999999999996\n",
      "\tobj([0.8404958001832821,0.01462989282060681]) = -2.0399000000000003\r\n",
      "Iteration 14:\r\n",
      "\tobj([-0.5584389822919025,1.2603603367711584]) = -2.804899999999999\n",
      "\tobj([-0.4052346437672696,1.4135646752957913]) = -1.9059000000000006\r\n",
      "Iteration 15:\r\n",
      "\tobj([-1.7560801113150146,0.0627192077480463]) = -2.340299999999999\n",
      "\tobj([-1.603939632580259,0.21485968648280185]) = -3.1656\r\n",
      "Iteration 16:\r\n",
      "\tobj([-0.521515017729757,1.1461323085016812]) = -3.3974\n",
      "\tobj([-0.6726670105613797,1.297284301333304]) = -2.5974\r\n",
      "Iteration 17:\r\n",
      "\tobj([0.32502558530933495,0.29959170546258934]) = -3.561499999999999\n",
      "\tobj([0.4752548891036687,0.1493624016682556]) = -2.8175999999999997\r\n",
      "Iteration 18:\r\n",
      "\tobj([-0.5741010280293131,1.0493537901721766]) = -3.8229\n",
      "\tobj([-0.42473649940025227,1.1987183188012374]) = -3.1506\r\n",
      "Iteration 19:\r\n",
      "\tobj([-1.2523030595356437,0.37115175866584577]) = -3.8564\n",
      "\tobj([-1.400854162931055,0.22260065527043466]) = -3.2044\r\n",
      "Iteration 20:\r\n",
      "\tobj([-0.5069904589222417,1.1164643592792478]) = -3.5358\n",
      "\tobj([-0.6547739651268821,0.9686808530746074]) = -4.1446\r\n",
      "Iteration 21:\r\n",
      "\tobj([-1.1859767586449395,0.43747805955654995]) = -4.1025\n",
      "\tobj([-1.3330338077053359,0.29042101049615376]) = -3.5204000000000004\r\n",
      "Iteration 22:\r\n",
      "\tobj([-0.7166834873381936,0.9067713308632959]) = -4.3034\n",
      "\tobj([-0.5703157683120065,1.053139049889483]) = -3.8239\r\n",
      "Iteration 23:\r\n",
      "\tobj([-1.097005649592668,0.5264491686088213]) = -4.3238\n",
      "\tobj([-1.2427177049506681,0.38073711325082144]) = -3.8923\r\n",
      "Iteration 24:\r\n",
      "\tobj([-0.7939437107895229,0.9745981606865233]) = -4.1282\n",
      "\tobj([-0.6488566575149664,0.8295111074119668]) = -4.4505\r\n",
      "Iteration 25:\r\n",
      "\tobj([-0.3212528291041481,0.5019072790011485]) = -4.2675\n",
      "\tobj([-0.4657429168429572,0.6463973667399576]) = -4.5222\r\n",
      "Iteration 26:\r\n",
      "\tobj([-0.575419917146314,0.7560743670433144]) = -4.5154\n",
      "\tobj([-0.7193387696142085,0.8999932195112089]) = -4.319100000000001\r\n",
      "Iteration 27:\r\n",
      "\tobj([-0.38383182531047444,0.5644862752074747]) = -4.4421\n",
      "\tobj([-0.5272031359796895,0.7078575858766899]) = -4.531600000000001\r\n",
      "Iteration 28:\r\n",
      "\tobj([-0.6127783483513505,0.6505871433444893]) = -4.5236\n",
      "\tobj([-0.46993269344748895,0.7934327982483508]) = -4.5151\r\n",
      "Iteration 29:\r\n",
      "\tobj([-0.4930703410206383,0.7702951506752015]) = -4.5054\n",
      "\tobj([-0.635410615146146,0.6279548765496937]) = -4.5112\r\n",
      "Iteration 30:\r\n",
      "\tobj([-0.6405344031497799,0.6228310885460598]) = -4.507099999999999\n",
      "\tobj([-0.49868067673746364,0.7646848149583761]) = -4.5098\r\n"
     ]
    },
    {
     "output_type": "execute_result",
     "data": {
      "text/plain": [
       "([-0.5671511573010752, 0.6962143343947645], -4.5329)"
      ]
     },
     "metadata": {},
     "execution_count": 30
    }
   ],
   "metadata": {}
  },
  {
   "cell_type": "code",
   "execution_count": 31,
   "source": [
    "min_energy"
   ],
   "outputs": [
    {
     "output_type": "execute_result",
     "data": {
      "text/plain": [
       "-4.577766724471026"
      ]
     },
     "metadata": {},
     "execution_count": 31
    }
   ],
   "metadata": {}
  },
  {
   "cell_type": "code",
   "execution_count": null,
   "source": [],
   "outputs": [],
   "metadata": {}
  }
 ],
 "metadata": {
  "kernelspec": {
   "name": "python3",
   "display_name": "Python 3.7.10 64-bit ('variational': conda)"
  },
  "language_info": {
   "codemirror_mode": {
    "name": "ipython",
    "version": 3
   },
   "file_extension": ".py",
   "mimetype": "text/x-python",
   "name": "python",
   "nbconvert_exporter": "python",
   "pygments_lexer": "ipython3",
   "version": "3.7.10"
  },
  "interpreter": {
   "hash": "464ea5c5cae2889b0c59ecc40909802f0909ef10120e6598fbb774b74247ba9f"
  }
 },
 "nbformat": 4,
 "nbformat_minor": 5
}