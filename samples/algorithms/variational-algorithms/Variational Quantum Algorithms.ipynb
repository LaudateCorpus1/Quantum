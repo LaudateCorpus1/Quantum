{
 "cells": [
  {
   "cell_type": "markdown",
   "id": "98e90c66",
   "metadata": {},
   "source": [
    "# Variational Quantum Algorithms in Q\\#"
   ]
  },
  {
   "cell_type": "markdown",
   "id": "632a6077",
   "metadata": {},
   "source": [
    "## Abstract"
   ]
  },
  {
   "cell_type": "markdown",
   "id": "f2a42d34",
   "metadata": {},
   "source": [
    "In this sample, we will explore how the rich classical control provided by Q# can be used to efficiently write out variational quantum algorithms. In particular, we'll focus on the example of the _variational quantum eigensolver_, also known as VQE."
   ]
  },
  {
   "cell_type": "markdown",
   "id": "942a30c1",
   "metadata": {},
   "source": [
    "## Preamble\n",
    "\n",
    "$\n",
    "    \\newcommand{\\ket}[1]{\\left|#1\\right\\rangle}\n",
    "$"
   ]
  },
  {
   "cell_type": "code",
   "execution_count": 1,
   "id": "9b53d398",
   "metadata": {},
   "outputs": [],
   "source": [
    "from itertools import product, repeat, starmap"
   ]
  },
  {
   "cell_type": "code",
   "execution_count": 2,
   "id": "5f815012",
   "metadata": {},
   "outputs": [
    {
     "name": "stdout",
     "output_type": "stream",
     "text": [
      "Preparing Q# environment...\n",
      "."
     ]
    }
   ],
   "source": [
    "import numpy as np\n",
    "import qutip as qt\n",
    "import qsharp"
   ]
  },
  {
   "cell_type": "markdown",
   "id": "0f3e2a41",
   "metadata": {},
   "source": [
    "For Q# code embedded in this notebook, it will be helpful to open a few namespaces before we proceed."
   ]
  },
  {
   "cell_type": "code",
   "execution_count": 3,
   "id": "3e938db3",
   "metadata": {},
   "outputs": [],
   "source": [
    "%%qsharp\n",
    "open Microsoft.Quantum.Arrays;\n",
    "open Microsoft.Quantum.Characterization;\n",
    "open Microsoft.Quantum.Convert;\n",
    "open Microsoft.Quantum.Diagnostics;\n",
    "open Microsoft.Quantum.Random;\n",
    "open Microsoft.Quantum.Math;"
   ]
  },
  {
   "cell_type": "markdown",
   "id": "df323dec",
   "metadata": {},
   "source": [
    "## Introducing the Variational Quantum Eigensolver"
   ]
  },
  {
   "cell_type": "markdown",
   "id": "606f9e42",
   "metadata": {},
   "source": [
    "In variational quantum algorithms, rather than performing all of our computation on the quantum device itself, we use a quantum program to estimate some quantity, then use a classical optimizer to find inputs to our quantum program that minimize or maximize that quantity. That is, rather than thinking of classical computation purely as a pre-processing or post-processing step, our computation uses both classical and quantum computation together."
   ]
  },
  {
   "cell_type": "markdown",
   "id": "8feb72ef",
   "metadata": {},
   "source": [
    "> **💡 TIP:** We could also consider using classical computation while qubits are still alive, rather than returning an estimate to a classical optimizer. This approach is indeed very useful, for instance in iterative phase estimation. For this sample, however, we'll focus on the variational case."
   ]
  },
  {
   "cell_type": "markdown",
   "id": "79d799e5",
   "metadata": {},
   "source": [
    "\n",
    "For example, consider the problem of finding the _ground state energy_ of a given operator $H$, often called a _Hamiltonian_. The ground state energy of $H$ is defined as its smallest eigenvalue $E_0$, as the Hamiltonian represents the possible energy configurations of a given physical system.\n",
    "\n",
    "As stated, even though this is a minimization, we need to know the eigenvalues of $H$ to make any progress. It's pretty straightforward to rephrase the problem in terms of arbitrary states, however. In particular, the expectation value $\\left\\langle H \\right\\rangle H = \\left\\langle \\psi | H | \\psi \\right\\rangle$ must be at least as large as $E_0$. To see this, we can expand the expectation value in terms of the eigenvectors $\\{\\ket{\\phi_i}\\}$ of $H$, such that $H\\ket{\\phi_i} = E_i$.\n",
    "\n",
    "Since the decomposition of $H$ into eigenvectors gives us a basis, we know that $\\left\\langle \\phi_i | \\phi_j \\right\\rangle$ is zero whenever $i \\ne j$, allowing us to expand $\\ket{\\psi}$ into the eigenbasis of $H$ as $\\ket{\\psi} = \\sum_i \\alpha_i \\ket{\\phi_i}$ for some complex coefficients $\\{\\alpha_i\\}$. Using this decomposition, we can expand the expectation $\\left\\langle \\psi | H | \\psi \\right\\rangle$ in terms of the eigenvalues of $H$:\n",
    "\n",
    "$$\n",
    "\\begin{aligned}\n",
    "    \\left\\langle \\psi | H | \\psi \\right\\rangle\n",
    "        & = \\sum_i |\\alpha_i|^2 \\left\\langle \\phi_i | H | \\phi_i \\right\\rangle \\\\\n",
    "        & = \\sum_i |\\alpha_i|^2 \\left\\langle \\phi_i | E_i \\phi_i \\right\\rangle \\\\\n",
    "        & = \\sum_i |\\alpha_i|^2 E_i.\n",
    "\\end{aligned}\n",
    "$$\n",
    "\n",
    "Since each $|\\alpha_i|^2$ is nonnegative, and since $\\sum_i |\\alpha_i|^2 = 1$, the above gives us that\n",
    "$$\n",
    "    E_0 = \\min_i E_i \\le \\left\\langle \\psi | H | \\psi \\right\\rangle \\le \\max_i E_i.\n",
    "$$\n",
    "\n",
    "Thus, we can rephrase the original problem as a minimization not just over eigenstates, but of all arbitrary states,\n",
    "$$\n",
    "    E_0 = \\min_{\\ket{\\psi}} \\left\\langle \\psi | H | \\psi \\right\\rangle,\n",
    "$$\n",
    "where the minimum is achieved when $\\ket{\\psi} = \\ket{\\phi_0}$.\n",
    "\n",
    "Using this rephrasing, the _variational quantum eigensolver_ algorithm is just the variational algorithm that we get by using a classical optimizer to find $\\min_{\\ket{\\psi}} \\left\\langle \\psi | H | \\psi \\right\\rangle$. In pseudocode:\n",
    "\n",
    "```\n",
    "operation FindMinimumEigenvalue {\n",
    "    Pick an initial guess |ψ⟩.\n",
    "    until target accuracy reached {\n",
    "        Estimate E = ⟨ψ | H | ψ⟩ using a quantum operation.\n",
    "        Use a classical optimizer to pick the next |ψ⟩.\n",
    "    }\n",
    "    Return the minimum E that we found and the state |ψ⟩ that achieved that minimum.\n",
    "}\n",
    "```"
   ]
  },
  {
   "cell_type": "markdown",
   "id": "343e4cc7",
   "metadata": {},
   "source": [
    "**TODO: diagram**"
   ]
  },
  {
   "cell_type": "markdown",
   "id": "c2fac6a2",
   "metadata": {},
   "source": [
    "To turn the above pseudocode into a real quantum program, we still need to figure out two things:\n",
    "\n",
    "- How to estimate $\\left\\langle \\psi | H | \\psi \\right\\rangle$ for a given state $\\ket{\\psi}$.\n",
    "- How to optimize over all quantum states $\\ket{\\psi}$.\n",
    "\n",
    "In the rest of this sample, we'll see how to do each of these, and how you can use Q# to write a VQE implementation."
   ]
  },
  {
   "cell_type": "markdown",
   "id": "016cd85a",
   "metadata": {},
   "source": [
    "## Estimating expectation values of $H$"
   ]
  },
  {
   "cell_type": "markdown",
   "id": "bd8152bf",
   "metadata": {},
   "source": [
    "Before proceeding to see how to estimate $\\left\\langle \\psi | H | \\psi \\right\\rangle$, however, it helps to consider what that expectation value _is_. To do so, let's consider a concrete example of a two-qubit Hamiltonian, using QuTiP to construct a Python object representing $H$."
   ]
  },
  {
   "cell_type": "code",
   "execution_count": 4,
   "id": "882da674",
   "metadata": {},
   "outputs": [
    {
     "data": {
      "text/latex": [
       "Quantum object: dims = [[2, 2], [2, 2]], shape = (4, 4), type = oper, isherm = True\\begin{equation*}\\left(\\begin{array}{*{11}c}-2.0 & 0.0 & 0.0 & 3.0\\\\0.0 & 7.0 & 0.0 & 1.0\\\\0.0 & 0.0 & -4.0 & 0.0\\\\3.0 & 1.0 & 0.0 & -1.0\\\\\\end{array}\\right)\\end{equation*}"
      ],
      "text/plain": [
       "Quantum object: dims = [[2, 2], [2, 2]], shape = (4, 4), type = oper, isherm = True\n",
       "Qobj data =\n",
       "[[-2.  0.  0.  3.]\n",
       " [ 0.  7.  0.  1.]\n",
       " [ 0.  0. -4.  0.]\n",
       " [ 3.  1.  0. -1.]]"
      ]
     },
     "execution_count": 4,
     "metadata": {},
     "output_type": "execute_result"
    }
   ],
   "source": [
    "H = qt.Qobj([\n",
    "    [-2, 0, 0, 3],\n",
    "    [0, 7, 0, 1],\n",
    "    [0, 0, -4, 0],\n",
    "    [3, 1, 0, -1]\n",
    "], dims=[[2, 2]] * 2)\n",
    "H"
   ]
  },
  {
   "cell_type": "markdown",
   "id": "d77b2c7b",
   "metadata": {},
   "source": [
    "Here, `H` is a Python object representing the 4 × 4 matrix $H$. We can use the `eigenstates` method provided by QuTiP to quickly find the eigenvalues and eigenvectors of $H$:"
   ]
  },
  {
   "cell_type": "code",
   "execution_count": 5,
   "id": "b72ad238",
   "metadata": {},
   "outputs": [
    {
     "data": {
      "text/plain": [
       "(array([-4.57776672, -4.        ,  1.43800535,  7.13976137]),\n",
       " array([Quantum object: dims = [[2, 2], [1, 1]], shape = (4, 1), type = ket\n",
       "        Qobj data =\n",
       "        [[ 0.75726547]\n",
       "         [ 0.05620122]\n",
       "         [ 0.        ]\n",
       "         [-0.65068458]]                                                    ,\n",
       "        Quantum object: dims = [[2, 2], [1, 1]], shape = (4, 1), type = ket\n",
       "        Qobj data =\n",
       "        [[ 0.]\n",
       "         [ 0.]\n",
       "         [-1.]\n",
       "         [ 0.]]                                                            ,\n",
       "        Quantum object: dims = [[2, 2], [1, 1]], shape = (4, 1), type = ket\n",
       "        Qobj data =\n",
       "        [[-0.65152827]\n",
       "         [ 0.13424187]\n",
       "         [ 0.        ]\n",
       "         [-0.74665256]]                                                    ,\n",
       "        Quantum object: dims = [[2, 2], [1, 1]], shape = (4, 1), type = ket\n",
       "        Qobj data =\n",
       "        [[0.04538633]\n",
       "         [0.9893536 ]\n",
       "         [0.        ]\n",
       "         [0.13827341]]                                                     ],\n",
       "       dtype=object))"
      ]
     },
     "execution_count": 5,
     "metadata": {},
     "output_type": "execute_result"
    }
   ],
   "source": [
    "H.eigenstates()"
   ]
  },
  {
   "cell_type": "markdown",
   "id": "5cc3e237",
   "metadata": {},
   "source": [
    "In particular, we can use the `min` function provided by Python to minimize over the eigenvalues of $H$ and find its ground state $\\ket{\\phi_0}$."
   ]
  },
  {
   "cell_type": "code",
   "execution_count": 6,
   "id": "6d7d6e08",
   "metadata": {},
   "outputs": [
    {
     "data": {
      "text/plain": [
       "(-4.577766724471026,\n",
       " Quantum object: dims = [[2, 2], [1, 1]], shape = (4, 1), type = ket\n",
       " Qobj data =\n",
       " [[ 0.75726547]\n",
       "  [ 0.05620122]\n",
       "  [ 0.        ]\n",
       "  [-0.65068458]])"
      ]
     },
     "execution_count": 6,
     "metadata": {},
     "output_type": "execute_result"
    }
   ],
   "source": [
    "min_energy, ground_state = min(zip(*H.eigenstates()), key=lambda eig: eig[0])\n",
    "min_energy, ground_state"
   ]
  },
  {
   "cell_type": "markdown",
   "id": "01a3fcfc",
   "metadata": {},
   "source": [
    "Here, `ground_state` represents the eigenvector $\\ket{\\phi_0}$ corresponding to the smallest eigenvalue $E_0$ of $H$. By the above argument, we would expect that $\\left\\langle \\phi_0 | H | \\phi_0 \\right\\rangle = E_0$. We can check that using QuTiP as well:"
   ]
  },
  {
   "cell_type": "code",
   "execution_count": 7,
   "id": "9fcef31b",
   "metadata": {},
   "outputs": [
    {
     "data": {
      "text/plain": [
       "(-4.577766724471031+0j)"
      ]
     },
     "execution_count": 7,
     "metadata": {},
     "output_type": "execute_result"
    }
   ],
   "source": [
    "(ground_state.dag() * H * ground_state)[0, 0]"
   ]
  },
  {
   "cell_type": "markdown",
   "id": "b001f761",
   "metadata": {},
   "source": [
    "What's going on here? Effectively, for any operator $O$ such that $O^{\\dagger} = O$, expressions like $\\left\\langle \\psi | O | \\psi \\right\\rangle$ represent another way of thinking about quantum measurement. In particular, if we think of the eigenvalues of $O$ as labels for its corresponding various eigenvectors, then $\\left\\langle \\psi | O | \\psi \\right\\rangle$ is the average label that we get when we measure $O$ in the basis of its eigenvectors."
   ]
  },
  {
   "cell_type": "markdown",
   "id": "811380d8",
   "metadata": {},
   "source": [
    "> **💡 TIP:** This way of thinking about quantum measurement is sometimes called the _observable framework_, with $O$ being called an _observable_. We avoid using this terminology here to avoid confusion, however, as the expectation value of $O$ cannot be observed directly, but only inferred from repeated measurements."
   ]
  },
  {
   "cell_type": "markdown",
   "id": "9a00d40f",
   "metadata": {},
   "source": [
    "For example, if $O = Z$, then the eigenstate $\\ket{0}$ is labeled by its eigenvalue $+1$, while $\\ket{1}$ is labeled by $-1$. The expectation value $\\left\\langle \\psi | Z | \\psi \\right\\rangle$ is then the probability of getting a `Zero` minus the probability of getting a `One`.\n",
    "\n",
    "More generally, finding the expectation value of an arbitrary Pauli operator for an arbitrary input state is straightforward using the `Measure` and `EstimateFrequencyA` operations."
   ]
  },
  {
   "cell_type": "code",
   "execution_count": 8,
   "id": "30129196",
   "metadata": {},
   "outputs": [],
   "source": [
    "%%qsharp\n",
    "\n",
    "operation EstimatePauliExpectation(pauli : Pauli[], preparation : (Qubit[] => Unit is Adj), nShots : Int) : Double {\n",
    "    return 2.0 * EstimateFrequencyA(\n",
    "        preparation,\n",
    "        Measure(pauli, _),\n",
    "        Length(pauli),\n",
    "        nShots\n",
    "    ) - 1.0;\n",
    "}"
   ]
  },
  {
   "cell_type": "markdown",
   "id": "262409af",
   "metadata": {},
   "source": [
    "Here, we've represented the state $\\ket{\\psi}$ by an operation `preparation` that prepares that state. Since each Pauli operator other than the identity operator has exactly two eigenvalues, $+1$ and $-1$, corresponding to `Zero` and `One` respectively, we can turn the estimate of the probability $p_0$ with which `Measure(pauli, _)` returns `Zero` into an expectation value $p_0 - p_1 = p_0 - (1 - p_0) = 2 p_0 - 1$.\n",
    "\n",
    "For example, doing nothing prepares the state $\\ket{0}$, so we get an expectation value of $1$:"
   ]
  },
  {
   "cell_type": "code",
   "execution_count": 9,
   "id": "969c665d",
   "metadata": {},
   "outputs": [],
   "source": [
    "%%qsharp\n",
    "\n",
    "operation EstimateExpectationOfZero() : Double {\n",
    "    return EstimatePauliExpectation(\n",
    "        [PauliZ],\n",
    "        NoOp,\n",
    "        100\n",
    "    );\n",
    "}"
   ]
  },
  {
   "cell_type": "code",
   "execution_count": 10,
   "id": "1ae7ac86",
   "metadata": {},
   "outputs": [
    {
     "data": {
      "text/plain": [
       "1.0"
      ]
     },
     "execution_count": 10,
     "metadata": {},
     "output_type": "execute_result"
    }
   ],
   "source": [
    "EstimateExpectationOfZero.simulate()"
   ]
  },
  {
   "cell_type": "markdown",
   "id": "c6039806",
   "metadata": {},
   "source": [
    "Similarly, using `X` to prepare $\\ket{1}$ gives us an expectation of $-1$, while using `H` to prepare $\\ket{+} = \\frac{1}{\\sqrt{2}} (\\ket{0} + \\ket{1})$ gives an expectation value of $0$."
   ]
  },
  {
   "cell_type": "code",
   "execution_count": 11,
   "id": "0fb63474",
   "metadata": {},
   "outputs": [],
   "source": [
    "%%qsharp\n",
    "\n",
    "operation EstimateExpectationOfOne() : Double {\n",
    "    return EstimatePauliExpectation(\n",
    "        [PauliZ],\n",
    "        ApplyToEachCA(X, _),\n",
    "        100\n",
    "    );\n",
    "}"
   ]
  },
  {
   "cell_type": "code",
   "execution_count": 12,
   "id": "5a43655a",
   "metadata": {},
   "outputs": [
    {
     "data": {
      "text/plain": [
       "-1.0"
      ]
     },
     "execution_count": 12,
     "metadata": {},
     "output_type": "execute_result"
    }
   ],
   "source": [
    "EstimateExpectationOfOne.simulate()"
   ]
  },
  {
   "cell_type": "code",
   "execution_count": 13,
   "id": "dbfc7403",
   "metadata": {},
   "outputs": [],
   "source": [
    "%%qsharp\n",
    "\n",
    "operation EstimateExpectationOfPlus() : Double {\n",
    "    return EstimatePauliExpectation(\n",
    "        [PauliZ],\n",
    "        ApplyToEachCA(H, _),\n",
    "        100\n",
    "    );\n",
    "}"
   ]
  },
  {
   "cell_type": "code",
   "execution_count": 14,
   "id": "4d9615de",
   "metadata": {},
   "outputs": [
    {
     "data": {
      "text/plain": [
       "0.020000000000000018"
      ]
     },
     "execution_count": 14,
     "metadata": {},
     "output_type": "execute_result"
    }
   ],
   "source": [
    "EstimateExpectationOfPlus.simulate()"
   ]
  },
  {
   "cell_type": "markdown",
   "id": "402d52eb",
   "metadata": {},
   "source": [
    "Note that in practice, we won't always get exactly 0 due to using a finite number of measurements."
   ]
  },
  {
   "cell_type": "markdown",
   "id": "2f8a564b",
   "metadata": {},
   "source": [
    "In any case, to recap, it's easy to use a quantum program to find $\\left\\langle \\psi | H | \\psi \\right\\rangle$ in the special case that $H$ is a multi-qubit Pauli operator. What about the more general case? The linearity of quantum mechanics saves us again! It turns out that we can expand the expectation of any other operator in terms of expectations of Pauli operators. To see how that works, suppose that $H = 2 Z - X$."
   ]
  },
  {
   "cell_type": "code",
   "execution_count": 15,
   "id": "fc8522b8",
   "metadata": {},
   "outputs": [
    {
     "data": {
      "text/latex": [
       "Quantum object: dims = [[2], [2]], shape = (2, 2), type = oper, isherm = True\\begin{equation*}\\left(\\begin{array}{*{11}c}2.0 & -1.0\\\\-1.0 & -2.0\\\\\\end{array}\\right)\\end{equation*}"
      ],
      "text/plain": [
       "Quantum object: dims = [[2], [2]], shape = (2, 2), type = oper, isherm = True\n",
       "Qobj data =\n",
       "[[ 2. -1.]\n",
       " [-1. -2.]]"
      ]
     },
     "execution_count": 15,
     "metadata": {},
     "output_type": "execute_result"
    }
   ],
   "source": [
    "2 * qt.sigmaz() - qt.sigmax()"
   ]
  },
  {
   "cell_type": "markdown",
   "id": "b12113ed",
   "metadata": {},
   "source": [
    "We can expand $\\left\\langle \\psi | (2Z - X) | \\psi \\right\\rangle$ by using linearity:\n",
    "\n",
    "$$\n",
    "    \\left\\langle \\psi | (2Z - X) | \\psi \\right\\rangle = 2 \\left\\langle \\psi | Z | \\psi \\right\\rangle - \\left\\langle \\psi | X | \\psi \\right\\rangle.\n",
    "$$"
   ]
  },
  {
   "cell_type": "markdown",
   "id": "7ef577a8",
   "metadata": {},
   "source": [
    "Each of the terms in this expansion is something that we can estimate easily using our `EstimatePauliExpectation` operation from above."
   ]
  },
  {
   "cell_type": "code",
   "execution_count": 16,
   "id": "270866e4",
   "metadata": {},
   "outputs": [],
   "source": [
    "%%qsharp\n",
    "\n",
    "operation EstimateExpectation(terms : (Double, Pauli[])[], preparation : (Qubit[] => Unit is Adj), nShots : Int) : Double {\n",
    "    mutable sum = 0.0;\n",
    "    for (coefficient, pauli) in terms {\n",
    "        set sum += coefficient * EstimatePauliExpectation(\n",
    "            pauli, preparation, nShots\n",
    "        );\n",
    "    }\n",
    "    return sum;\n",
    "}"
   ]
  },
  {
   "cell_type": "markdown",
   "id": "a8cb11bc",
   "metadata": {},
   "source": [
    "With this, we almost have everything we need to estimate expectations $\\left\\langle \\psi | H | \\psi \\right\\rangle$. We just need a way of finding the decomposition of $H$ into Pauli operators. Thankfully, QuTiP can help here as well."
   ]
  },
  {
   "cell_type": "code",
   "execution_count": 17,
   "id": "b18016ac",
   "metadata": {},
   "outputs": [],
   "source": [
    "def pauli_basis(n_qubits):\n",
    "    scale = 2 ** n_qubits\n",
    "    return {\n",
    "        tuple(P): qt.tensor(*(p.as_qobj() for p in P)) / scale\n",
    "        for P in product(qsharp.Pauli, repeat=n_qubits)\n",
    "    }"
   ]
  },
  {
   "cell_type": "code",
   "execution_count": 18,
   "id": "083c630e",
   "metadata": {},
   "outputs": [],
   "source": [
    "def expand_in_pauli_basis(op):\n",
    "    return [\n",
    "        (coeff, list(label))\n",
    "        for label, coeff in {\n",
    "            label: (P.dag() * op).tr()\n",
    "            for label, P in pauli_basis(n_qubits=len(op.dims[0])).items()\n",
    "        }.items()\n",
    "        if abs(coeff) >= 1e-10\n",
    "    ]"
   ]
  },
  {
   "cell_type": "markdown",
   "id": "bd89b3f3",
   "metadata": {},
   "source": [
    "For example, we can use the two functions above to find that $H = -3 𝟙 \\otimes Z + 0.5 X \\otimes 𝟙 + 1.5 X \\otimes X - 0.5 X \\otimes Z - 1.5 Y \\otimes Y + 2.5 Z \\otimes 𝟙 - 1.5 Z \\otimes Z$:"
   ]
  },
  {
   "cell_type": "code",
   "execution_count": 19,
   "id": "5e2566aa",
   "metadata": {},
   "outputs": [
    {
     "data": {
      "text/plain": [
       "[(-3.0, [<Pauli.I: 0>, <Pauli.Z: 2>]),\n",
       " (0.5, [<Pauli.X: 1>, <Pauli.I: 0>]),\n",
       " (1.5, [<Pauli.X: 1>, <Pauli.X: 1>]),\n",
       " (-0.5, [<Pauli.X: 1>, <Pauli.Z: 2>]),\n",
       " (-1.5, [<Pauli.Y: 3>, <Pauli.Y: 3>]),\n",
       " (2.5, [<Pauli.Z: 2>, <Pauli.I: 0>]),\n",
       " (-1.5, [<Pauli.Z: 2>, <Pauli.Z: 2>])]"
      ]
     },
     "execution_count": 19,
     "metadata": {},
     "output_type": "execute_result"
    }
   ],
   "source": [
    "H_decomposition = expand_in_pauli_basis(H)\n",
    "H_decomposition"
   ]
  },
  {
   "cell_type": "markdown",
   "id": "3efb8c85",
   "metadata": {},
   "source": [
    "This decomposition is exactly what we need to pass as `terms` above. For example, to estimate the expectation of the $\\ket{++}$ state, $\\left\\langle ++ | H | ++ \\right\\rangle$, we can pass `terms` to `EstimateExpectation`. In doing so, we'll use the name \"energy\" for our new operation, pointing to that expectation values of Hamiltonian operators $H$ represent the average energy of a system given the quantum state of that system."
   ]
  },
  {
   "cell_type": "code",
   "execution_count": 20,
   "id": "6f3496aa",
   "metadata": {},
   "outputs": [],
   "source": [
    "%%qsharp\n",
    "\n",
    "operation EstimateEnergyOfPlus(terms : (Double, Pauli[])[]) : Double {\n",
    "    return EstimateExpectation(\n",
    "        terms,\n",
    "        ApplyToEachCA(H, _),\n",
    "        100\n",
    "    );\n",
    "}"
   ]
  },
  {
   "cell_type": "code",
   "execution_count": 21,
   "id": "06d024e0",
   "metadata": {},
   "outputs": [
    {
     "data": {
      "text/plain": [
       "2.080000000000001"
      ]
     },
     "execution_count": 21,
     "metadata": {},
     "output_type": "execute_result"
    }
   ],
   "source": [
    "EstimateEnergyOfPlus.simulate(terms=H_decomposition)"
   ]
  },
  {
   "cell_type": "markdown",
   "id": "c805b94f",
   "metadata": {},
   "source": [
    "This is pretty far from the minimum $E_0$ we found from the eigenvalue decomposition above, so in the next part we'll see one more trick we can use to write our VQE implementation."
   ]
  },
  {
   "cell_type": "markdown",
   "id": "a01d3576",
   "metadata": {},
   "source": [
    "## Preparing ansatz states"
   ]
  },
  {
   "cell_type": "markdown",
   "id": "66697d02",
   "metadata": {},
   "source": [
    "Recall that our goal is to use a classical optimizer to find the minimum energy $E_0$ of some Hamiltonian operator $H$:\n",
    "$$\n",
    "    E_0 = \\min_{\\ket{\\psi}} \\left\\langle \\psi | H | \\psi \\right\\rangle.\n",
    "$$"
   ]
  },
  {
   "cell_type": "markdown",
   "id": "8d9e9402",
   "metadata": {},
   "source": [
    "In practice, we can't reasonably optimize over all possible quantum states $\\ket{\\psi}$, so that the above optimization problem is intractable for all but the smallest systems. Instead, we note that we can find an upper-bound for $E_0$ by solving a simpler problem. Suppose that there is a set $A$ of states that are easier to prepare. Then,\n",
    "$$\n",
    "    E_0 = \\min_{\\ket{\\psi}} \\left\\langle \\psi | H | \\psi \\right\\rangle \\le \\min_{\\ket{\\psi} \\in A} \\left\\langle \\psi | H | \\psi \\right\\rangle.\n",
    "$$"
   ]
  },
  {
   "cell_type": "markdown",
   "id": "754715d6",
   "metadata": {},
   "source": [
    "If we choose $A$ carefully so that $\\ket{\\phi_0} \\in A$, this inequality will be tight. More often, however, $\\ket{\\phi_0}$ won't actually be in $A$, but will be close to some other state in $A$, giving us a reasonable approximation to $E_0$."
   ]
  },
  {
   "cell_type": "markdown",
   "id": "04cddb81",
   "metadata": {},
   "source": [
    "We say that $A$ is our _ansatz_ for running VQE; in this way, $A$ plays a similar role to a model in an ML training loop, representing what we believe to be a reasonable set of guesses for $\\ket{\\phi_0}$. One can get pretty involved with their choice of ansatz, but for this sample, we'll choose a really simple one, and set $A$ to be those states that can be prepared by a small number of Pauli rotations."
   ]
  },
  {
   "cell_type": "code",
   "execution_count": 22,
   "id": "8d14bc1e",
   "metadata": {},
   "outputs": [],
   "source": [
    "%%qsharp\n",
    "\n",
    "operation PrepareAnsatz(axes : Pauli[][], angles : Double[], register : Qubit[]) : Unit is Adj {\n",
    "    for (axis, angle) in Zipped(axes, angles) {\n",
    "        Exp(axis, angle, register);\n",
    "    }\n",
    "}"
   ]
  },
  {
   "cell_type": "markdown",
   "id": "3d2f0cd3",
   "metadata": {},
   "source": [
    "Our minimization $\\min_{\\ket{\\psi} \\in A} \\left\\langle \\psi | H | \\psi \\right\\rangle$ is now a minimization over `angles` for some fixed list of Pauli rotation axes. Using `DumpMachine` and `DumpRegister`, we can visualize how this ansatz works for a few different choices of parameters `angles`, convincing ourselves that $A$ contains enough interesting states to find $E_0$."
   ]
  },
  {
   "cell_type": "code",
   "execution_count": 23,
   "id": "746dea35",
   "metadata": {},
   "outputs": [],
   "source": [
    "%%qsharp\n",
    "\n",
    "operation DumpAnsatz(axes : Pauli[][], angles : Double[]) : Unit {\n",
    "    use register = Qubit[Length(angles)];\n",
    "    within {\n",
    "        PrepareAnsatz(axes, angles, register);\n",
    "    } apply {\n",
    "        DumpRegister((), register);\n",
    "    }\n",
    "}"
   ]
  },
  {
   "cell_type": "code",
   "execution_count": 24,
   "id": "75dd9228",
   "metadata": {},
   "outputs": [],
   "source": [
    "ansatz_axes = [[qsharp.Pauli.Z, qsharp.Pauli.Z], [qsharp.Pauli.X, qsharp.Pauli.Y]]"
   ]
  },
  {
   "cell_type": "code",
   "execution_count": 25,
   "id": "2a2137ef",
   "metadata": {},
   "outputs": [
    {
     "data": {
      "application/x-qsharp-data": "{\"diagnostic_kind\":\"state-vector\",\"div_id\":\"dump-machine-div-9d278de6-967a-4cbd-9c46-f94af7dd5b94\",\"qubit_ids\":[0,1],\"n_qubits\":2,\"amplitudes\":[{\"Real\":-0.11714648149439554,\"Imaginary\":-0.3013185124022002,\"Magnitude\":0.3232895668635034,\"Phase\":-1.9415926535897934},{\"Real\":0.0,\"Imaginary\":0.0,\"Magnitude\":0.0,\"Phase\":0.0},{\"Real\":-0.0,\"Imaginary\":0.0,\"Magnitude\":0.0,\"Phase\":3.141592653589793},{\"Real\":-0.3428991748354909,\"Imaginary\":-0.881988668778884,\"Magnitude\":0.9463000876874147,\"Phase\":-1.9415926535897934}]}",
      "text/html": [
       "\r\n",
       "                    <table style=\"table-layout: fixed; width: 100%\">\r\n",
       "                        <thead>\r\n",
       "                            \r\n",
       "                        <tr>\r\n",
       "                            <th>Qubit IDs</th>\r\n",
       "                            <td span=\"3\">0, 1</td>\r\n",
       "                        </tr>\r\n",
       "                    \r\n",
       "                            <tr>\r\n",
       "                                <th style=\"width: 20ch)\">Basis state (bitstring)</th>\r\n",
       "                                <th style=\"width: 20ch\">Amplitude</th><th style=\"width: calc(100% - 26ch - 20ch)\">Meas. Pr.</th><th style=\"width: 6ch\">Phase</th>\r\n",
       "                            </tr>\r\n",
       "                        </thead>\r\n",
       "                        <tbody>\r\n",
       "                        \r\n",
       "                            <tr>\r\n",
       "                                <td>$\\left|00\\right\\rangle$</td>\r\n",
       "                                <td>$-0.1171  -0.3013 i$</td>\r\n",
       "                                \r\n",
       "                                <td>\r\n",
       "                                    <progress\r\n",
       "                                        max=\"100\"\r\n",
       "                                        value=\"10.451614404279164\"\r\n",
       "                                        style=\"width: 100%;\"\r\n",
       "                                    > \r\n",
       "                                    <td>\r\n",
       "                                    <p id=\"round-6348fd44-201f-4aa5-91f7-a917fae2ebeb\"> \r\n",
       "                                    <script>\r\n",
       "                                    var num = 10.451614404279164;\r\n",
       "                                    num = num.toFixed(4);\r\n",
       "                                    var num_string = num + \"%\";\r\n",
       "                                     document.getElementById(\"round-6348fd44-201f-4aa5-91f7-a917fae2ebeb\").innerHTML = num_string;\r\n",
       "                                    </script> </p>\r\n",
       "                                    </td>\r\n",
       "                                </td>\r\n",
       "                            \r\n",
       "                                \r\n",
       "                                <td style=\"transform: rotate(-111.24506458430123deg);\r\n",
       "                   text-align: center;\">\r\n",
       "                                 ↑\r\n",
       "                                </td>\r\n",
       "                            \r\n",
       "                            </tr>\r\n",
       "                        \n",
       "\r\n",
       "                            <tr>\r\n",
       "                                <td>$\\left|11\\right\\rangle$</td>\r\n",
       "                                <td>$-0.3429  -0.8820 i$</td>\r\n",
       "                                \r\n",
       "                                <td>\r\n",
       "                                    <progress\r\n",
       "                                        max=\"100\"\r\n",
       "                                        value=\"89.54838559572087\"\r\n",
       "                                        style=\"width: 100%;\"\r\n",
       "                                    > \r\n",
       "                                    <td>\r\n",
       "                                    <p id=\"round-d9033af5-afb9-4782-b71c-9c7750c095b1\"> \r\n",
       "                                    <script>\r\n",
       "                                    var num = 89.54838559572087;\r\n",
       "                                    num = num.toFixed(4);\r\n",
       "                                    var num_string = num + \"%\";\r\n",
       "                                     document.getElementById(\"round-d9033af5-afb9-4782-b71c-9c7750c095b1\").innerHTML = num_string;\r\n",
       "                                    </script> </p>\r\n",
       "                                    </td>\r\n",
       "                                </td>\r\n",
       "                            \r\n",
       "                                \r\n",
       "                                <td style=\"transform: rotate(-111.24506458430123deg);\r\n",
       "                   text-align: center;\">\r\n",
       "                                 ↑\r\n",
       "                                </td>\r\n",
       "                            \r\n",
       "                            </tr>\r\n",
       "                        \r\n",
       "                        </tbody>\r\n",
       "                    </table>"
      ],
      "text/plain": [
       "|00⟩\t-0.11714648149439554 + -0.3013185124022002𝑖\n",
       "|11⟩\t-0.3428991748354909 + -0.881988668778884𝑖"
      ]
     },
     "metadata": {},
     "output_type": "display_data"
    },
    {
     "data": {
      "text/plain": [
       "()"
      ]
     },
     "execution_count": 25,
     "metadata": {},
     "output_type": "execute_result"
    }
   ],
   "source": [
    "DumpAnsatz.simulate(axes=ansatz_axes, angles=[1.2, 1.9])"
   ]
  },
  {
   "cell_type": "code",
   "execution_count": 26,
   "id": "8bc72926",
   "metadata": {},
   "outputs": [
    {
     "data": {
      "application/x-qsharp-data": "{\"diagnostic_kind\":\"state-vector\",\"div_id\":\"dump-machine-div-7b18e275-cfba-40b2-86ac-b1b74ffbe398\",\"qubit_ids\":[0,1],\"n_qubits\":2,\"amplitudes\":[{\"Real\":0.27714649751343473,\"Imaginary\":0.7128628131458088,\"Magnitude\":0.7648421872844886,\"Phase\":1.2},{\"Real\":0.0,\"Imaginary\":0.0,\"Magnitude\":0.0,\"Phase\":0.0},{\"Real\":0.0,\"Imaginary\":0.0,\"Magnitude\":0.0,\"Phase\":0.0},{\"Real\":0.23343727454160576,\"Imaginary\":0.600436064376938,\"Magnitude\":0.644217687237691,\"Phase\":1.2}]}",
      "text/html": [
       "\r\n",
       "                    <table style=\"table-layout: fixed; width: 100%\">\r\n",
       "                        <thead>\r\n",
       "                            \r\n",
       "                        <tr>\r\n",
       "                            <th>Qubit IDs</th>\r\n",
       "                            <td span=\"3\">0, 1</td>\r\n",
       "                        </tr>\r\n",
       "                    \r\n",
       "                            <tr>\r\n",
       "                                <th style=\"width: 20ch)\">Basis state (bitstring)</th>\r\n",
       "                                <th style=\"width: 20ch\">Amplitude</th><th style=\"width: calc(100% - 26ch - 20ch)\">Meas. Pr.</th><th style=\"width: 6ch\">Phase</th>\r\n",
       "                            </tr>\r\n",
       "                        </thead>\r\n",
       "                        <tbody>\r\n",
       "                        \r\n",
       "                            <tr>\r\n",
       "                                <td>$\\left|00\\right\\rangle$</td>\r\n",
       "                                <td>$0.2771 + 0.7129 i$</td>\r\n",
       "                                \r\n",
       "                                <td>\r\n",
       "                                    <progress\r\n",
       "                                        max=\"100\"\r\n",
       "                                        value=\"58.49835714501207\"\r\n",
       "                                        style=\"width: 100%;\"\r\n",
       "                                    > \r\n",
       "                                    <td>\r\n",
       "                                    <p id=\"round-c539f126-4dcf-4cc7-a11b-5a42e51206f5\"> \r\n",
       "                                    <script>\r\n",
       "                                    var num = 58.49835714501207;\r\n",
       "                                    num = num.toFixed(4);\r\n",
       "                                    var num_string = num + \"%\";\r\n",
       "                                     document.getElementById(\"round-c539f126-4dcf-4cc7-a11b-5a42e51206f5\").innerHTML = num_string;\r\n",
       "                                    </script> </p>\r\n",
       "                                    </td>\r\n",
       "                                </td>\r\n",
       "                            \r\n",
       "                                \r\n",
       "                                <td style=\"transform: rotate(68.75493541569878deg);\r\n",
       "                   text-align: center;\">\r\n",
       "                                 ↑\r\n",
       "                                </td>\r\n",
       "                            \r\n",
       "                            </tr>\r\n",
       "                        \n",
       "\r\n",
       "                            <tr>\r\n",
       "                                <td>$\\left|11\\right\\rangle$</td>\r\n",
       "                                <td>$0.2334 + 0.6004 i$</td>\r\n",
       "                                \r\n",
       "                                <td>\r\n",
       "                                    <progress\r\n",
       "                                        max=\"100\"\r\n",
       "                                        value=\"41.50164285498795\"\r\n",
       "                                        style=\"width: 100%;\"\r\n",
       "                                    > \r\n",
       "                                    <td>\r\n",
       "                                    <p id=\"round-d2eb19be-2d5c-4710-a57d-c2bf8128c8b2\"> \r\n",
       "                                    <script>\r\n",
       "                                    var num = 41.50164285498795;\r\n",
       "                                    num = num.toFixed(4);\r\n",
       "                                    var num_string = num + \"%\";\r\n",
       "                                     document.getElementById(\"round-d2eb19be-2d5c-4710-a57d-c2bf8128c8b2\").innerHTML = num_string;\r\n",
       "                                    </script> </p>\r\n",
       "                                    </td>\r\n",
       "                                </td>\r\n",
       "                            \r\n",
       "                                \r\n",
       "                                <td style=\"transform: rotate(68.75493541569878deg);\r\n",
       "                   text-align: center;\">\r\n",
       "                                 ↑\r\n",
       "                                </td>\r\n",
       "                            \r\n",
       "                            </tr>\r\n",
       "                        \r\n",
       "                        </tbody>\r\n",
       "                    </table>"
      ],
      "text/plain": [
       "|00⟩\t0.27714649751343473 + 0.7128628131458088𝑖\n",
       "|11⟩\t0.23343727454160576 + 0.600436064376938𝑖"
      ]
     },
     "metadata": {},
     "output_type": "display_data"
    },
    {
     "data": {
      "text/plain": [
       "()"
      ]
     },
     "execution_count": 26,
     "metadata": {},
     "output_type": "execute_result"
    }
   ],
   "source": [
    "DumpAnsatz.simulate(axes=ansatz_axes, angles=[1.2, -0.7])"
   ]
  },
  {
   "cell_type": "markdown",
   "id": "968626bf",
   "metadata": {},
   "source": [
    "At this point, it's helpful to write some new operations that directly estimate the energy of a state given a parameterization of our ansatz, rather than an opaque operation that prepares the state."
   ]
  },
  {
   "cell_type": "code",
   "execution_count": 27,
   "id": "4280169e",
   "metadata": {},
   "outputs": [],
   "source": [
    "%%qsharp\n",
    "\n",
    "operation EstimateEnergyAtAnsatz(terms : (Double, Pauli[])[], axes : Pauli[][], angles : Double[], nShots : Int) : Double {\n",
    "    return EstimateExpectation(\n",
    "        terms,\n",
    "        PrepareAnsatz(axes, angles, _),\n",
    "        nShots\n",
    "    );\n",
    "}"
   ]
  },
  {
   "cell_type": "code",
   "execution_count": 28,
   "id": "243672a6",
   "metadata": {},
   "outputs": [
    {
     "data": {
      "text/plain": [
       "0.7510000000000003"
      ]
     },
     "execution_count": 28,
     "metadata": {},
     "output_type": "execute_result"
    }
   ],
   "source": [
    "EstimateEnergyAtAnsatz.simulate(\n",
    "    terms=H_decomposition,\n",
    "    axes=ansatz_axes,\n",
    "    angles=[1.2, 1.9],\n",
    "    nShots=1000\n",
    ")"
   ]
  },
  {
   "cell_type": "markdown",
   "id": "b8102249",
   "metadata": {},
   "source": [
    "## Running VQE in Q\\#"
   ]
  },
  {
   "cell_type": "markdown",
   "id": "3c3b973e",
   "metadata": {},
   "source": [
    "Using this new operation, we have something that looks much more like classical optimization problems that we may be used to! Indeed, we can simply use our favorite optimization algorithm to pick different values for `angles` until we find a good approximation for $E_0$. In this sample, we'll use the _SPSA algorithm_ to optimize `angles`, as this algorithm works especially well for objective functions that have some amount of noise, such as that added by taking a finite number of shots above.\n",
    "\n",
    "We won't go through the details of SPSA here, but if you're interested to learn more, check out [`Optimization.qs`](../edit/Optimization.qs) in this folder to see how we implemented SPSA in Q#."
   ]
  },
  {
   "cell_type": "code",
   "execution_count": 35,
   "id": "f57724a8",
   "metadata": {},
   "outputs": [],
   "source": [
    "%%qsharp\n",
    "\n",
    "open Microsoft.Quantum.Samples;\n",
    "\n",
    "operation FindMinimumEnergy(terms : (Double, Pauli[])[], axes : Pauli[][], initialGuess : Double[], nShots : Int) : (Double[], Double) {\n",
    "    let oracle = EstimateEnergyAtAnsatz(terms, axes, _, nShots);\n",
    "    let options = DefaultSpsaOptions();\n",
    "    return FindMinimumWithSpsa(\n",
    "        oracle,\n",
    "        initialGuess,\n",
    "        options\n",
    "    );\n",
    "}"
   ]
  },
  {
   "cell_type": "code",
   "execution_count": 36,
   "id": "c9250a76",
   "metadata": {},
   "outputs": [
    {
     "name": "stdout",
     "output_type": "stream",
     "text": [
      "Iteration 1:\r\n",
      "\tobj([1.3,2]) = 1.0886999999999998\n",
      "\tobj([1.0999999999999999,1.7999999999999998]) = 0.26560000000000006\r\n",
      "Iteration 2:\r\n",
      "\tobj([-2.822261351356315,-2.3087386486436814]) = -4.4399\n",
      "\tobj([-3.008738648643681,-2.122261351356315]) = -3.9479\r\n",
      "Iteration 3:\r\n",
      "\tobj([-1.2667200869599182,-3.864279913040078]) = 1.4102999999999994\n",
      "\tobj([-1.0877251490885658,-4.0432748509114305]) = 1.5343999999999998\r\n",
      "Iteration 4:\r\n",
      "\tobj([-1.6220095588940617,-3.5089904411059347]) = 0.1336999999999997\n",
      "\tobj([-1.4481406468760574,-3.6828593531239386]) = 0.9106000000000005\r\n",
      "Iteration 5:\r\n",
      "\tobj([-3.3896373535407216,-1.5713684773011478]) = -0.9934000000000003\n",
      "\tobj([-3.559631522698848,-1.7413626464592744]) = -2.0233\r\n",
      "Iteration 6:\r\n",
      "\tobj([-5.8573036427035055,-3.8721423052520825]) = 1.42\n",
      "\tobj([-5.690411181491656,-4.039034766463932]) = 1.5356000000000005\r\n",
      "Iteration 7:\r\n",
      "\tobj([-5.927245406092866,-3.8022005418627223]) = 1.2875999999999994\n",
      "\tobj([-6.091559604929135,-3.637886343026452]) = 0.7343999999999999\r\n",
      "Iteration 8:\r\n",
      "\tobj([-6.97176335267062,-2.7576825952849675]) = -3.9343999999999997\n",
      "\tobj([-7.133876376647682,-2.5955695713079057]) = -4.385599999999999\r\n",
      "Iteration 9:\r\n",
      "\tobj([-7.768681470882729,-1.960764477072858]) = -3.2482000000000006\n",
      "\tobj([-7.928877409800576,-1.8005685381550112]) = -2.3739999999999997\r\n",
      "Iteration 10:\r\n",
      "\tobj([-6.474227415124107,-3.2552185328314804]) = -1.3214000000000006\n",
      "\tobj([-6.315727149028012,-3.413718798927575]) = -0.38230000000000075\r\n",
      "Iteration 11:\r\n",
      "\tobj([-7.7979187975709525,-1.7745453395633093]) = -2.2213999999999996\n",
      "\tobj([-7.954900608392277,-1.9315271503846345]) = -3.0990999999999995\r\n",
      "Iteration 12:\r\n",
      "\tobj([-9.118619048798724,-3.2508538663131925]) = -1.3481999999999998\n",
      "\tobj([-9.274227324320837,-3.0952455907910807]) = -2.2653\r\n",
      "Iteration 13:\r\n",
      "\tobj([-10.594035459853451,-1.9297928160036524]) = -3.0902\n",
      "\tobj([-10.439680099108266,-1.7754374552584655]) = -2.2266\r\n",
      "Iteration 14:\r\n",
      "\tobj([-11.78798983099252,-3.1237471871427207]) = -2.0963000000000003\n",
      "\tobj([-11.634785492467886,-2.970542848618088]) = -2.9661999999999997\r\n",
      "Iteration 15:\r\n",
      "\tobj([-10.475928385707862,-1.963826220592817]) = -3.2629000000000006\n",
      "\tobj([-10.628068864442616,-1.8116857418580614]) = -2.4385000000000003\r\n",
      "Iteration 16:\r\n",
      "\tobj([-9.566157065466767,-2.8735975408339116]) = -3.4522999999999993\n",
      "\tobj([-9.415005072635145,-3.0247495336655343]) = -2.6713\r\n",
      "Iteration 17:\r\n",
      "\tobj([-10.389013426286246,-2.0507411800144326]) = -3.6656999999999993\n",
      "\tobj([-10.539242730080579,-1.900511876220099]) = -2.9360000000000004\r\n",
      "Iteration 18:\r\n",
      "\tobj([-9.656422651985427,-2.932696482944312]) = -3.1639\n",
      "\tobj([-9.507058123356366,-2.7833319543152513]) = -3.8378999999999994\r\n",
      "Iteration 19:\r\n",
      "\tobj([-8.8639918773889,-2.1402657083477834]) = -4.0115\n",
      "\tobj([-8.715440773993487,-1.9917146049523724]) = -3.3985000000000003\r\n",
      "Iteration 20:\r\n",
      "\tobj([-9.564699938785823,-2.840973769744709]) = -3.5997000000000003\n",
      "\tobj([-9.416916432581184,-2.6931902635400684]) = -4.1477\r\n",
      "Iteration 21:\r\n",
      "\tobj([-8.806429721944179,-2.2297606019634606]) = -4.2943999999999996\n",
      "\tobj([-8.953486771004576,-2.0827035529030646]) = -3.7973999999999997\r\n",
      "Iteration 22:\r\n",
      "\tobj([-8.408820668697768,-2.627369655209872]) = -4.3198\n",
      "\tobj([-8.26245294967158,-2.7737373742360587]) = -3.874600000000001\r\n",
      "Iteration 23:\r\n",
      "\tobj([-8.881612934609711,-2.3002894446559288]) = -4.4177\n",
      "\tobj([-8.73590087925171,-2.154577389297929]) = -4.0594\r\n",
      "Iteration 24:\r\n",
      "\tobj([-9.105063864437312,-2.668827427758086]) = -4.2170000000000005\n",
      "\tobj([-9.250150917711867,-2.5237403744835296]) = -4.490500000000001\r\n",
      "Iteration 25:\r\n",
      "\tobj([-9.383616402766377,-2.39027488942902]) = -4.5252\n",
      "\tobj([-9.528106490505186,-2.2457848016902107]) = -4.3208\r\n",
      "Iteration 26:\r\n",
      "\tobj([-9.32746682673016,-2.446424465465238]) = -4.5395\n",
      "\tobj([-9.183547974262265,-2.5903433179331325]) = -4.3953\r\n",
      "Iteration 27:\r\n",
      "\tobj([-9.46813284496181,-2.4491297579028037]) = -4.5439\n",
      "\tobj([-9.324761534292593,-2.305758447233589]) = -4.4351\r\n",
      "Iteration 28:\r\n",
      "\tobj([-9.429372728428586,-2.410369641369582]) = -4.533799999999999\n",
      "\tobj([-9.572218383332448,-2.5532152962734433]) = -4.4552000000000005\r\n",
      "Iteration 29:\r\n",
      "\tobj([-9.497942745014868,-2.4789396579558636]) = -4.5288\n",
      "\tobj([-9.355602470889359,-2.3365993838303556]) = -4.4831\r\n",
      "Iteration 30:\r\n",
      "\tobj([-9.404426908135965,-2.5272775474892786]) = -4.487299999999999\n",
      "\tobj([-9.546280634548284,-2.3854238210769623]) = -4.518700000000001\r\n"
     ]
    },
    {
     "data": {
      "text/plain": [
       "([-9.507013814290493, -2.424690641334752], -4.5384)"
      ]
     },
     "execution_count": 36,
     "metadata": {},
     "output_type": "execute_result"
    }
   ],
   "source": [
    "FindMinimumEnergy.simulate(terms=H_decomposition, axes=ansatz_axes, initialGuess=[1.2, 1.9], nShots=10_000)"
   ]
  },
  {
   "cell_type": "code",
   "execution_count": 37,
   "id": "c19ec53d",
   "metadata": {},
   "outputs": [
    {
     "data": {
      "text/plain": [
       "-4.577766724471026"
      ]
     },
     "execution_count": 37,
     "metadata": {},
     "output_type": "execute_result"
    }
   ],
   "source": [
    "min_energy"
   ]
  },
  {
   "cell_type": "code",
   "execution_count": null,
   "id": "dfee68a2",
   "metadata": {},
   "outputs": [],
   "source": []
  }
 ],
 "metadata": {
  "kernelspec": {
   "display_name": "Python 3",
   "language": "python",
   "name": "python3"
  },
  "language_info": {
   "codemirror_mode": {
    "name": "ipython",
    "version": 3
   },
   "file_extension": ".py",
   "mimetype": "text/x-python",
   "name": "python",
   "nbconvert_exporter": "python",
   "pygments_lexer": "ipython3",
   "version": "3.7.10"
  }
 },
 "nbformat": 4,
 "nbformat_minor": 5
}
